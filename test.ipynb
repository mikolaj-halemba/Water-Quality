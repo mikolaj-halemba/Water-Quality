{
 "cells": [
  {
   "cell_type": "code",
   "execution_count": 12,
   "metadata": {},
   "outputs": [],
   "source": [
    "import pandas as pd"
   ]
  },
  {
   "cell_type": "code",
   "execution_count": 13,
   "metadata": {},
   "outputs": [],
   "source": [
    "df = pd.read_csv(\"./waterQuality1.csv\")"
   ]
  },
  {
   "cell_type": "code",
   "execution_count": 14,
   "metadata": {},
   "outputs": [],
   "source": [
    "df=df[df['ammonia'] != '#NUM!']"
   ]
  },
  {
   "cell_type": "code",
   "execution_count": 15,
   "metadata": {},
   "outputs": [],
   "source": [
    "df['ammonia'] = df['ammonia'].astype(float)\n",
    "df['is_safe'] = df['is_safe'].astype(float)"
   ]
  },
  {
   "cell_type": "code",
   "execution_count": 16,
   "metadata": {},
   "outputs": [
    {
     "name": "stdout",
     "output_type": "stream",
     "text": [
      "aluminium = 2.0134627045986115\n",
      "ammonia = 0.026804485284098088\n",
      "arsenic = 1.9852414162523806\n",
      "barium = 0.6609568467500901\n",
      "cadmium = 0.4782263714938959\n",
      "chloramine = 0.888122552573934\n",
      "chromium = 1.0281875935048819\n",
      "copper = 0.25355804997424575\n",
      "flouride = -0.039733321559774694\n",
      "bacteria = 0.5544174786607943\n",
      "viruses = 0.4245668331619121\n",
      "lead = -0.060600898324101045\n",
      "nitrates = -0.04205984794520487\n",
      "nitrites = -0.49821155027632374\n",
      "mercury = -0.08172613642495993\n",
      "perchlorate = 0.9377671483069505\n",
      "radium = 0.548390578720597\n",
      "selenium = 0.010494764277532776\n",
      "silver = 1.0294889184168248\n",
      "uranium = -0.02703998376636728\n"
     ]
    }
   ],
   "source": [
    "cols = df.columns[:-1]\n",
    "lista = []\n",
    "for col in cols:\n",
    "    lista.append([col,df[col].skew()])\n",
    "    print(\"{} = {}\".format(col,df[col].skew()))  \n",
    "df=pd.DataFrame(lista,columns=[\"Zmienna\",\"Skośność\"])\n",
    "newdf = df.sort_values(by='Skośność',ascending=False)\n",
    "newdf.reset_index(drop=True, inplace=True)"
   ]
  },
  {
   "cell_type": "code",
   "execution_count": 18,
   "metadata": {},
   "outputs": [
    {
     "name": "stdout",
     "output_type": "stream",
     "text": [
      "        Zmienna  Skośność\n",
      "0     aluminium  2.013463\n",
      "1       arsenic  1.985241\n",
      "2        silver  1.029489\n",
      "3      chromium  1.028188\n",
      "4   perchlorate  0.937767\n",
      "5    chloramine  0.888123\n",
      "6        barium  0.660957\n",
      "7      bacteria  0.554417\n",
      "8        radium  0.548391\n",
      "9       cadmium  0.478226\n",
      "10      viruses  0.424567\n",
      "11       copper  0.253558\n",
      "12      ammonia  0.026804\n",
      "13     selenium  0.010495\n",
      "14      uranium -0.027040\n",
      "15     flouride -0.039733\n",
      "16     nitrates -0.042060\n",
      "17         lead -0.060601\n",
      "18      mercury -0.081726\n",
      "19     nitrites -0.498212\n"
     ]
    }
   ],
   "source": [
    "print(newdf)"
   ]
  },
  {
   "cell_type": "code",
   "execution_count": null,
   "metadata": {},
   "outputs": [],
   "source": []
  },
  {
   "cell_type": "code",
   "execution_count": null,
   "metadata": {},
   "outputs": [],
   "source": []
  }
 ],
 "metadata": {
  "kernelspec": {
   "display_name": "Python 3",
   "language": "python",
   "name": "python3"
  },
  "language_info": {
   "codemirror_mode": {
    "name": "ipython",
    "version": 3
   },
   "file_extension": ".py",
   "mimetype": "text/x-python",
   "name": "python",
   "nbconvert_exporter": "python",
   "pygments_lexer": "ipython3",
   "version": "3.8.5"
  }
 },
 "nbformat": 4,
 "nbformat_minor": 4
}
