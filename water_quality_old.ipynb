{
 "cells": [
  {
   "cell_type": "code",
   "execution_count": 67,
   "metadata": {},
   "outputs": [
    {
     "data": {
      "text/html": [
       "\n",
       "<style>\n",
       "    div#notebook-container    { width: 95%; }\n",
       "    div#menubar-container     { width: 65%; }\n",
       "    div#maintoolbar-container { width: 99%; }\n",
       "</style>\n"
      ],
      "text/plain": [
       "<IPython.core.display.HTML object>"
      ]
     },
     "metadata": {},
     "output_type": "display_data"
    }
   ],
   "source": [
    "import time\n",
    "# Obróbka danych\n",
    "import pandas as pd\n",
    "import numpy as np\n",
    "\n",
    "# Wizualizacja \n",
    "import matplotlib.pyplot as plt\n",
    "import seaborn as sns\n",
    "import missingno as mgno \n",
    "\n",
    "# Przygotowanie danych \n",
    "from hyperopt import hp, fmin, tpe, STATUS_OK, space_eval\n",
    "from hyperopt import Trials\n",
    "from sklearn.model_selection import cross_validate,train_test_split,cross_val_score,KFold \n",
    "from sklearn.feature_selection import SelectPercentile, chi2\n",
    "from imblearn.over_sampling import RandomOverSampler\n",
    "from sklearn.compose import ColumnTransformer,make_column_transformer\n",
    "from imblearn.over_sampling import SMOTE\n",
    "from sklearn.impute import SimpleImputer, KNNImputer\n",
    "from sklearn.pipeline import Pipeline, make_pipeline,FeatureUnion\n",
    "from sklearn.preprocessing import MinMaxScaler, StandardScaler, FunctionTransformer, Normalizer, OrdinalEncoder, OneHotEncoder\n",
    "from IPython.display import display, HTML\n",
    "from sklearn.metrics import confusion_matrix,accuracy_score,make_scorer,precision_score,recall_score,f1_score,classification_report\n",
    "\n",
    "# Modele\n",
    "from sklearn.ensemble import BaggingClassifier, RandomForestClassifier, GradientBoostingClassifier, AdaBoostClassifier\n",
    "import catboost as catb\n",
    "import lightgbm as lgbm\n",
    "import xgboost as xgb\n",
    "\n",
    "#Ziarno losowe\n",
    "random_state=123\n",
    "np.random.seed(42)\n",
    "\n",
    "#Tworzenie logów\n",
    "import logging\n",
    "\n",
    "# Wyświetlanie notebooka\n",
    "display(HTML(data=\"\"\"\n",
    "<style>\n",
    "    div#notebook-container    { width: 95%; }\n",
    "    div#menubar-container     { width: 65%; }\n",
    "    div#maintoolbar-container { width: 99%; }\n",
    "</style>\n",
    "\"\"\"))\n",
    "\n",
    "# Wizualizacje wykresów\n",
    "fontdict = {'family': 'Times New Roman',\n",
    "        'color':  'black',\n",
    "        'weight': 'normal',\n",
    "        'size': 25,\n",
    "        }\n",
    "from warnings import filterwarnings\n",
    "filterwarnings('ignore')"
   ]
  },
  {
   "cell_type": "code",
   "execution_count": 68,
   "metadata": {},
   "outputs": [],
   "source": [
    "def log(path, file):\n",
    "    \"\"\"[Create a log file to record the experiment's logs]\n",
    "    \n",
    "    Arguments:\n",
    "        path {string} -- path to the directory\n",
    "        file {string} -- file name\n",
    "    \n",
    "    Returns:\n",
    "        [func] -- [logger that record logs]\n",
    "    \"\"\"\n",
    "\n",
    "    log_file = os.path.join(path, file)\n",
    "\n",
    "    if not os.path.isfile(log_file):\n",
    "        open(log_file, \"w+\").close()\n",
    "\n",
    "    console_logging_format = \"%(levelname)s %(message)s\"\n",
    "    file_logging_format = \"%(levelname)s: %(asctime)s: %(message)s\"\n",
    "\n",
    "    logging.basicConfig(level=logging.INFO, format=console_logging_format)\n",
    "    logger = logging.getLogger()\n",
    "    \n",
    "    handler = logging.FileHandler(log_file)\n",
    "\n",
    "    handler.setLevel(logging.INFO)\n",
    "    \n",
    "    formatter = logging.Formatter(file_logging_format)\n",
    "    handler.setFormatter(formatter)\n",
    "\n",
    "    logger.addHandler(handler)\n",
    "\n",
    "    return logger"
   ]
  },
  {
   "cell_type": "code",
   "execution_count": 69,
   "metadata": {},
   "outputs": [
    {
     "data": {
      "text/html": [
       "<div>\n",
       "<style scoped>\n",
       "    .dataframe tbody tr th:only-of-type {\n",
       "        vertical-align: middle;\n",
       "    }\n",
       "\n",
       "    .dataframe tbody tr th {\n",
       "        vertical-align: top;\n",
       "    }\n",
       "\n",
       "    .dataframe thead th {\n",
       "        text-align: right;\n",
       "    }\n",
       "</style>\n",
       "<table border=\"1\" class=\"dataframe\">\n",
       "  <thead>\n",
       "    <tr style=\"text-align: right;\">\n",
       "      <th></th>\n",
       "      <th>ph</th>\n",
       "      <th>Hardness</th>\n",
       "      <th>Solids</th>\n",
       "      <th>Chloramines</th>\n",
       "      <th>Sulfate</th>\n",
       "      <th>Conductivity</th>\n",
       "      <th>Organic_carbon</th>\n",
       "      <th>Trihalomethanes</th>\n",
       "      <th>Turbidity</th>\n",
       "      <th>Potability</th>\n",
       "    </tr>\n",
       "  </thead>\n",
       "  <tbody>\n",
       "    <tr>\n",
       "      <th>2947</th>\n",
       "      <td>NaN</td>\n",
       "      <td>183.521107</td>\n",
       "      <td>20461.252710</td>\n",
       "      <td>7.333212</td>\n",
       "      <td>333.119476</td>\n",
       "      <td>356.369022</td>\n",
       "      <td>20.179029</td>\n",
       "      <td>67.019903</td>\n",
       "      <td>4.886634</td>\n",
       "      <td>0</td>\n",
       "    </tr>\n",
       "    <tr>\n",
       "      <th>2782</th>\n",
       "      <td>6.643159</td>\n",
       "      <td>188.913541</td>\n",
       "      <td>32873.820022</td>\n",
       "      <td>6.791509</td>\n",
       "      <td>333.848842</td>\n",
       "      <td>336.561501</td>\n",
       "      <td>14.706810</td>\n",
       "      <td>67.844849</td>\n",
       "      <td>4.562198</td>\n",
       "      <td>1</td>\n",
       "    </tr>\n",
       "    <tr>\n",
       "      <th>1644</th>\n",
       "      <td>7.846058</td>\n",
       "      <td>224.058877</td>\n",
       "      <td>23264.109968</td>\n",
       "      <td>5.922367</td>\n",
       "      <td>300.402620</td>\n",
       "      <td>387.971336</td>\n",
       "      <td>13.406737</td>\n",
       "      <td>43.075186</td>\n",
       "      <td>2.487969</td>\n",
       "      <td>0</td>\n",
       "    </tr>\n",
       "    <tr>\n",
       "      <th>70</th>\n",
       "      <td>7.160467</td>\n",
       "      <td>183.089310</td>\n",
       "      <td>6743.346066</td>\n",
       "      <td>3.803036</td>\n",
       "      <td>277.599099</td>\n",
       "      <td>428.036344</td>\n",
       "      <td>9.799625</td>\n",
       "      <td>90.035374</td>\n",
       "      <td>3.884891</td>\n",
       "      <td>0</td>\n",
       "    </tr>\n",
       "    <tr>\n",
       "      <th>2045</th>\n",
       "      <td>6.615350</td>\n",
       "      <td>179.240661</td>\n",
       "      <td>26392.863612</td>\n",
       "      <td>9.309160</td>\n",
       "      <td>NaN</td>\n",
       "      <td>496.363562</td>\n",
       "      <td>12.786595</td>\n",
       "      <td>78.262369</td>\n",
       "      <td>4.453443</td>\n",
       "      <td>1</td>\n",
       "    </tr>\n",
       "    <tr>\n",
       "      <th>263</th>\n",
       "      <td>13.175402</td>\n",
       "      <td>47.432000</td>\n",
       "      <td>19237.949676</td>\n",
       "      <td>8.907020</td>\n",
       "      <td>375.147315</td>\n",
       "      <td>500.245952</td>\n",
       "      <td>12.083896</td>\n",
       "      <td>NaN</td>\n",
       "      <td>4.106924</td>\n",
       "      <td>1</td>\n",
       "    </tr>\n",
       "    <tr>\n",
       "      <th>1042</th>\n",
       "      <td>5.499489</td>\n",
       "      <td>230.308775</td>\n",
       "      <td>13902.968646</td>\n",
       "      <td>9.619575</td>\n",
       "      <td>352.084333</td>\n",
       "      <td>442.167006</td>\n",
       "      <td>14.740787</td>\n",
       "      <td>NaN</td>\n",
       "      <td>5.846827</td>\n",
       "      <td>0</td>\n",
       "    </tr>\n",
       "    <tr>\n",
       "      <th>2263</th>\n",
       "      <td>11.235426</td>\n",
       "      <td>178.596496</td>\n",
       "      <td>33773.107061</td>\n",
       "      <td>9.063042</td>\n",
       "      <td>327.650960</td>\n",
       "      <td>425.868039</td>\n",
       "      <td>17.986255</td>\n",
       "      <td>58.986652</td>\n",
       "      <td>5.147055</td>\n",
       "      <td>0</td>\n",
       "    </tr>\n",
       "    <tr>\n",
       "      <th>450</th>\n",
       "      <td>NaN</td>\n",
       "      <td>139.331152</td>\n",
       "      <td>2912.211247</td>\n",
       "      <td>10.338234</td>\n",
       "      <td>343.318021</td>\n",
       "      <td>532.885196</td>\n",
       "      <td>11.078341</td>\n",
       "      <td>42.172824</td>\n",
       "      <td>4.093098</td>\n",
       "      <td>0</td>\n",
       "    </tr>\n",
       "    <tr>\n",
       "      <th>1832</th>\n",
       "      <td>NaN</td>\n",
       "      <td>233.846621</td>\n",
       "      <td>32496.640216</td>\n",
       "      <td>6.637384</td>\n",
       "      <td>347.986448</td>\n",
       "      <td>424.649773</td>\n",
       "      <td>13.028000</td>\n",
       "      <td>55.983973</td>\n",
       "      <td>4.296189</td>\n",
       "      <td>0</td>\n",
       "    </tr>\n",
       "  </tbody>\n",
       "</table>\n",
       "</div>"
      ],
      "text/plain": [
       "             ph    Hardness        Solids  Chloramines     Sulfate  \\\n",
       "2947        NaN  183.521107  20461.252710     7.333212  333.119476   \n",
       "2782   6.643159  188.913541  32873.820022     6.791509  333.848842   \n",
       "1644   7.846058  224.058877  23264.109968     5.922367  300.402620   \n",
       "70     7.160467  183.089310   6743.346066     3.803036  277.599099   \n",
       "2045   6.615350  179.240661  26392.863612     9.309160         NaN   \n",
       "263   13.175402   47.432000  19237.949676     8.907020  375.147315   \n",
       "1042   5.499489  230.308775  13902.968646     9.619575  352.084333   \n",
       "2263  11.235426  178.596496  33773.107061     9.063042  327.650960   \n",
       "450         NaN  139.331152   2912.211247    10.338234  343.318021   \n",
       "1832        NaN  233.846621  32496.640216     6.637384  347.986448   \n",
       "\n",
       "      Conductivity  Organic_carbon  Trihalomethanes  Turbidity  Potability  \n",
       "2947    356.369022       20.179029        67.019903   4.886634           0  \n",
       "2782    336.561501       14.706810        67.844849   4.562198           1  \n",
       "1644    387.971336       13.406737        43.075186   2.487969           0  \n",
       "70      428.036344        9.799625        90.035374   3.884891           0  \n",
       "2045    496.363562       12.786595        78.262369   4.453443           1  \n",
       "263     500.245952       12.083896              NaN   4.106924           1  \n",
       "1042    442.167006       14.740787              NaN   5.846827           0  \n",
       "2263    425.868039       17.986255        58.986652   5.147055           0  \n",
       "450     532.885196       11.078341        42.172824   4.093098           0  \n",
       "1832    424.649773       13.028000        55.983973   4.296189           0  "
      ]
     },
     "execution_count": 69,
     "metadata": {},
     "output_type": "execute_result"
    }
   ],
   "source": [
    "df = pd.read_csv(\"./water_potability.csv\")\n",
    "df.sample(10)"
   ]
  },
  {
   "cell_type": "markdown",
   "metadata": {},
   "source": [
    "The dataset consists of 3276 observations and is described by 10 features. All columns have continuous numeric values."
   ]
  },
  {
   "cell_type": "code",
   "execution_count": 70,
   "metadata": {},
   "outputs": [
    {
     "data": {
      "image/png": "[encoded data removed]",
      "text/plain": [
       "<Figure size 864x576 with 1 Axes>"
      ]
     },
     "metadata": {
      "needs_background": "light"
     },
     "output_type": "display_data"
    }
   ],
   "source": [
    "desc = df.describe().T\n",
    "f,ax = plt.subplots(figsize=(12,8))\n",
    "sns.heatmap(desc,annot=True,cmap = \"Blues\", fmt= '.0f',\n",
    "            ax=ax,linewidths = 5, cbar = False,\n",
    "            annot_kws={\"size\": 16})\n",
    "plt.xticks(size = 18)\n",
    "plt.yticks(size = 14, rotation = 0)\n",
    "plt.title(\"Statystyki opisowe\", fontdict=fontdict)\n",
    "plt.show()"
   ]
  },
  {
   "cell_type": "markdown",
   "metadata": {},
   "source": [
    "From the descriptive statistics visualization we can see that the mean is slightly higher than the median for the columns: Solids, Conductivity. It can be a proof of right skewness of distribution of these two variables. "
   ]
  },
  {
   "cell_type": "code",
   "execution_count": 71,
   "metadata": {},
   "outputs": [
    {
     "name": "stdout",
     "output_type": "stream",
     "text": [
      "<class 'pandas.core.frame.DataFrame'>\n",
      "RangeIndex: 3276 entries, 0 to 3275\n",
      "Data columns (total 10 columns):\n",
      " #   Column           Non-Null Count  Dtype  \n",
      "---  ------           --------------  -----  \n",
      " 0   ph               2785 non-null   float64\n",
      " 1   Hardness         3276 non-null   float64\n",
      " 2   Solids           3276 non-null   float64\n",
      " 3   Chloramines      3276 non-null   float64\n",
      " 4   Sulfate          2495 non-null   float64\n",
      " 5   Conductivity     3276 non-null   float64\n",
      " 6   Organic_carbon   3276 non-null   float64\n",
      " 7   Trihalomethanes  3114 non-null   float64\n",
      " 8   Turbidity        3276 non-null   float64\n",
      " 9   Potability       3276 non-null   int64  \n",
      "dtypes: float64(9), int64(1)\n",
      "memory usage: 256.1 KB\n"
     ]
    }
   ],
   "source": [
    "df.info()"
   ]
  },
  {
   "cell_type": "code",
   "execution_count": 72,
   "metadata": {},
   "outputs": [
    {
     "data": {
      "image/png": "[encoded data removed]",
      "text/plain": [
       "<Figure size 720x360 with 3 Axes>"
      ]
     },
     "metadata": {
      "needs_background": "light"
     },
     "output_type": "display_data"
    }
   ],
   "source": [
    "mgno.bar(df, figsize=(10,5), fontsize=12,sort=\"ascending\");\n",
    "plt.title('Wykres pustych wartości',fontdict=fontdict)\n",
    "plt.show()\n",
    "#print(df.isnull().sum())"
   ]
  },
  {
   "cell_type": "markdown",
   "metadata": {},
   "source": [
    "Data have NaN values in the pH, Sulfate, Trihalomethanes columns. "
   ]
  },
  {
   "cell_type": "code",
   "execution_count": 73,
   "metadata": {},
   "outputs": [
    {
     "data": {
      "image/png": "[encoded data removed]",
      "text/plain": [
       "<Figure size 1080x576 with 2 Axes>"
      ]
     },
     "metadata": {
      "needs_background": "light"
     },
     "output_type": "display_data"
    }
   ],
   "source": [
    "plt.figure(figsize=(15,8))\n",
    "corr = df.corr(method=\"spearman\")\n",
    "mask = np.triu(np.ones_like(corr, dtype=bool))\n",
    "sns.heatmap(corr, annot=True,linewidths=0.2,vmin=-1,vmax=1,mask=mask, cmap='Blues',center=0,cbar_kws={'alpha':0.1})\n",
    "plt.title('Macierz Korelacji',fontdict=fontdict)\n",
    "plt.show()"
   ]
  },
  {
   "cell_type": "markdown",
   "metadata": {},
   "source": [
    "In correlation matrix we used Spearman rank correlation, because there is no assumption about variables distribution, target variable is categorical variable (yes / no), but also dichotomous, so in ranking it doesn't really matter if it is categorical (as long as we want to detect level of correlation and dependencies, not direction of correlation), it is value based ranking, so this method is robust to outliers. In the visualization we can see that no variable is highly correlated with each other. So all variables are neutrally correlated."
   ]
  },
  {
   "cell_type": "code",
   "execution_count": 74,
   "metadata": {},
   "outputs": [],
   "source": [
    "#sns.pairplot(data=df,hue='Potability',plot_kws={'alpha':0.3}),"
   ]
  },
  {
   "cell_type": "markdown",
   "metadata": {},
   "source": [
    "With this visualization, we can see that our data definitely has no correlation, as we can see that they are \"point clouds\"."
   ]
  },
  {
   "cell_type": "code",
   "execution_count": 75,
   "metadata": {},
   "outputs": [
    {
     "name": "stdout",
     "output_type": "stream",
     "text": [
      "ph = 0.025630447632210302\n",
      "Hardness = -0.03934170477672744\n",
      "Solids = 0.6216344855169127\n",
      "Chloramines = -0.012098440124382135\n",
      "Sulfate = -0.03594662160706183\n",
      "Conductivity = 0.2644902239264119\n",
      "Organic_carbon = 0.02553258209024246\n",
      "Trihalomethanes = -0.08303067407901549\n",
      "Turbidity = -0.007816642377392644\n"
     ]
    }
   ],
   "source": [
    "cols = df.columns[:-1]\n",
    "for col in cols:\n",
    "    print(\"{} = {}\".format(col,df[col].skew()))"
   ]
  },
  {
   "cell_type": "markdown",
   "metadata": {},
   "source": [
    "After calculating the skewness we can say that the variable Solids, Conductivity have a skewed distribution. "
   ]
  },
  {
   "cell_type": "code",
   "execution_count": 76,
   "metadata": {},
   "outputs": [],
   "source": [
    "cols = df.columns[:-1]\n",
    "threshold = 0.2\n",
    "\n",
    "for col in cols:\n",
    "    if df[col].skew() > threshold:\n",
    "        df[col] = np.sqrt(df[col])\n",
    "    else:\n",
    "        pass"
   ]
  },
  {
   "cell_type": "markdown",
   "metadata": {},
   "source": [
    "To get rid of the skewness the square root transformation was used.  It is a transformation with a moderate effect on the shape of the distribution, weaker than the logarithm, but it is also used to reduce the skewness law."
   ]
  },
  {
   "cell_type": "code",
   "execution_count": 77,
   "metadata": {},
   "outputs": [
    {
     "data": {
      "image/png": "[encoded data removed]",
      "text/plain": [
       "<Figure size 864x504 with 2 Axes>"
      ]
     },
     "metadata": {
      "needs_background": "light"
     },
     "output_type": "display_data"
    },
    {
     "data": {
      "image/png": "[encoded data removed]",
      "text/plain": [
       "<Figure size 864x504 with 2 Axes>"
      ]
     },
     "metadata": {
      "needs_background": "light"
     },
     "output_type": "display_data"
    },
    {
     "data": {
      "image/png": "[encoded data removed]",
      "text/plain": [
       "<Figure size 864x504 with 2 Axes>"
      ]
     },
     "metadata": {
      "needs_background": "light"
     },
     "output_type": "display_data"
    },
    {
     "data": {
      "image/png": "[encoded data removed]",
      "text/plain": [
       "<Figure size 864x504 with 2 Axes>"
      ]
     },
     "metadata": {
      "needs_background": "light"
     },
     "output_type": "display_data"
    },
    {
     "data": {
      "image/png": "[encoded data removed]",
      "text/plain": [
       "<Figure size 864x504 with 2 Axes>"
      ]
     },
     "metadata": {
      "needs_background": "light"
     },
     "output_type": "display_data"
    },
    {
     "data": {
      "image/png": "[encoded data removed]",
      "text/plain": [
       "<Figure size 864x504 with 2 Axes>"
      ]
     },
     "metadata": {
      "needs_background": "light"
     },
     "output_type": "display_data"
    },
    {
     "data": {
      "image/png": "[encoded data removed]",
      "text/plain": [
       "<Figure size 864x504 with 2 Axes>"
      ]
     },
     "metadata": {
      "needs_background": "light"
     },
     "output_type": "display_data"
    },
    {
     "data": {
      "image/png": "[encoded data removed]",
      "text/plain": [
       "<Figure size 864x504 with 2 Axes>"
      ]
     },
     "metadata": {
      "needs_background": "light"
     },
     "output_type": "display_data"
    },
    {
     "data": {
      "image/png": "[encoded data removed]",
      "text/plain": [
       "<Figure size 864x504 with 2 Axes>"
      ]
     },
     "metadata": {
      "needs_background": "light"
     },
     "output_type": "display_data"
    },
    {
     "data": {
      "image/png": "[encoded data removed]",
      "text/plain": [
       "<Figure size 864x504 with 2 Axes>"
      ]
     },
     "metadata": {
      "needs_background": "light"
     },
     "output_type": "display_data"
    }
   ],
   "source": [
    "cols = df.columns\n",
    "for col in cols:\n",
    "    fig, axes = plt.subplots(2, 1,figsize=(12, 7))\n",
    "    \n",
    "    axes[0].axvline(x=df[col].mean(), linewidth=3, color='r', label=\"mean\", alpha=0.5,)\n",
    "    axes[0].axvline(x=df[col].median(), linewidth=3, color='y', label=\"median\", alpha=0.5,)\n",
    "    sns.histplot(df[col],ax=axes[0])\n",
    "    \n",
    "    axes[1].axvline(x=df[col].mean(), linewidth=3, color='r', label=\"mean\", alpha=0.5,)\n",
    "    axes[1].axvline(x=df[col].median(), linewidth=3, color='y', label=\"median\", alpha=0.5,)\n",
    "    sns.boxplot(x=df[col],ax=axes[1])\n",
    "\n",
    "    axes[0].set_ylabel('Ilość')\n",
    "    axes[0].set_xlabel('')\n",
    "    axes[0].set_title(\"Rozkład zmiennej {}\".format(col))\n",
    "    axes[0].legend([\"średnia\", \"mediana\"])\n",
    "    axes[1].legend([\"średnia\", \"mediana\"])\n",
    "    axes[1].set_xlabel('')"
   ]
  },
  {
   "cell_type": "markdown",
   "metadata": {},
   "source": [
    "After the square root transformation, the distribution of the variables is close to normal distribution, but we can see that there are outliers in the box plots of all the variables. The dataset is very small, which means that we should avoid removing outlier records and we should consider using non-parametric statistics, and algorithms that are not sensitive to outliers such as the tree methods."
   ]
  },
  {
   "cell_type": "code",
   "execution_count": 78,
   "metadata": {},
   "outputs": [
    {
     "name": "stdout",
     "output_type": "stream",
     "text": [
      "ph = 0.025630447632210302\n",
      "Hardness = -0.03934170477672744\n",
      "Solids = -0.015157793420941923\n",
      "Chloramines = -0.012098440124382135\n",
      "Sulfate = -0.03594662160706183\n",
      "Conductivity = 0.031893328896820373\n",
      "Organic_carbon = 0.02553258209024246\n",
      "Trihalomethanes = -0.08303067407901549\n",
      "Turbidity = -0.007816642377392644\n",
      "Potability = 0.4507837491078628\n"
     ]
    }
   ],
   "source": [
    "cols = df.columns\n",
    "for col in cols:\n",
    "    print(\"{} = {}\".format(col,df[col].skew()))"
   ]
  },
  {
   "cell_type": "markdown",
   "metadata": {},
   "source": [
    "We can see that the skewness has definitely decreased due to the applied transformation."
   ]
  },
  {
   "cell_type": "code",
   "execution_count": 79,
   "metadata": {},
   "outputs": [
    {
     "data": {
      "image/png": "[encoded data removed]",
      "text/plain": [
       "<Figure size 864x504 with 1 Axes>"
      ]
     },
     "metadata": {
      "needs_background": "light"
     },
     "output_type": "display_data"
    }
   ],
   "source": [
    "fig = plt.subplots(figsize=(12, 7))\n",
    "ax.set_title(\"Ilość próbki Potability\")\n",
    "sns.countplot(x ='Potability', data = df);"
   ]
  },
  {
   "cell_type": "markdown",
   "metadata": {},
   "source": [
    "Not very ballanced data set. Contains around 60 percent of not potable, and only around 40 percent potable."
   ]
  },
  {
   "cell_type": "markdown",
   "metadata": {},
   "source": [
    "### Feature engineering"
   ]
  },
  {
   "cell_type": "code",
   "execution_count": 80,
   "metadata": {},
   "outputs": [],
   "source": [
    "def type_water(x):\n",
    "    if x < 7:\n",
    "        return 'Acidic'\n",
    "    elif (x>=7) & (x<8):\n",
    "        return 'Neutral'\n",
    "    else:\n",
    "        return 'Alkaline'\n",
    "    \n",
    "def water_hardness(x):\n",
    "    \n",
    "    if x<17.1:\n",
    "        return 'Soft'\n",
    "    elif (x>=17.1) & (x<60):\n",
    "        return 'Sightly Hard'\n",
    "    elif (x>=60) & (x<120):\n",
    "        return 'Moderately Hard'\n",
    "    elif (x>=120) & (x<180):\n",
    "        return 'Hard'\n",
    "    else:\n",
    "        return 'Very Hard'"
   ]
  },
  {
   "cell_type": "code",
   "execution_count": 81,
   "metadata": {},
   "outputs": [],
   "source": [
    "df['water_type'] = df['ph'].apply(lambda x : type_water(x))\n",
    "df['water_hardness'] = df['Hardness'].apply(lambda x : water_hardness(x))"
   ]
  },
  {
   "cell_type": "code",
   "execution_count": 82,
   "metadata": {},
   "outputs": [],
   "source": [
    "df = df[['ph', 'Hardness', 'Chloramines', 'Sulfate', 'Organic_carbon','Trihalomethanes', 'Turbidity','Solids','Conductivity','water_type', 'water_hardness','Potability']]"
   ]
  },
  {
   "cell_type": "code",
   "execution_count": 130,
   "metadata": {},
   "outputs": [],
   "source": [
    "df = df.loc[df[\"water_hardness\"] != \"Sightly Hard\" ]"
   ]
  },
  {
   "cell_type": "code",
   "execution_count": 131,
   "metadata": {},
   "outputs": [],
   "source": [
    "#df = df.convert_dtypes()"
   ]
  },
  {
   "cell_type": "markdown",
   "metadata": {},
   "source": [
    "## Prepare data"
   ]
  },
  {
   "cell_type": "code",
   "execution_count": 83,
   "metadata": {},
   "outputs": [],
   "source": [
    "X  = df.iloc[:,:-1]\n",
    "y = df.iloc[:,-1]"
   ]
  },
  {
   "cell_type": "code",
   "execution_count": 84,
   "metadata": {},
   "outputs": [
    {
     "name": "stdout",
     "output_type": "stream",
     "text": [
      "(2293, 11) (2293,)\n",
      "(983, 11) (983,)\n"
     ]
    }
   ],
   "source": [
    "X_train, X_test, y_train, y_test = train_test_split(X, y, test_size=0.3, random_state=random_state,shuffle=True,stratify=y)\n",
    "print(X_train.shape,y_train.shape)\n",
    "print(X_test.shape,y_test.shape)"
   ]
  },
  {
   "cell_type": "markdown",
   "metadata": {},
   "source": [
    "We divide the data into 2 parts: training, testing "
   ]
  },
  {
   "cell_type": "code",
   "execution_count": 85,
   "metadata": {},
   "outputs": [
    {
     "name": "stdout",
     "output_type": "stream",
     "text": [
      "(2796, 11) (2796,)\n"
     ]
    },
    {
     "data": {
      "image/png": "[encoded data removed]",
      "text/plain": [
       "<Figure size 432x288 with 1 Axes>"
      ]
     },
     "metadata": {
      "needs_background": "light"
     },
     "output_type": "display_data"
    }
   ],
   "source": [
    "#Oversampling\n",
    "over_sampler = RandomOverSampler(random_state=random_state)\n",
    "X_train, y_train = over_sampler.fit_resample(X_train, y_train)\n",
    "print(X_train.shape,y_train.shape)\n",
    "full = X_train.copy()\n",
    "full[\"Potability\"] = y_train\n",
    "sns.countplot(x ='Potability', data = full);"
   ]
  },
  {
   "cell_type": "markdown",
   "metadata": {},
   "source": [
    "We used oversampling so that we balanced the set and have enough examples of both classes and the model can effectively learn the decision boundary between these classes."
   ]
  },
  {
   "cell_type": "code",
   "execution_count": 86,
   "metadata": {},
   "outputs": [],
   "source": [
    "numerical_columns = X_train.select_dtypes(include=['int64', 'float64']).columns\n",
    "nominal_columns = ['water_hardness']\n",
    "ordinal_columns = ['water_type']\n",
    "all_columns = X_train.columns"
   ]
  },
  {
   "cell_type": "code",
   "execution_count": 167,
   "metadata": {},
   "outputs": [
    {
     "data": {
      "text/plain": [
       "'oversampling_pipeline = Pipeline([(\"over_sampling\", SMOTE(random_state=42))])\\nselection_pipeline = Pipeline([(\"select_features\",SelectPercentile(chi2, percentile=50))])\\n\\ndata_prepare_pipeline = ColumnTransformer([\\n    (\"oversampling_preprocessor\", oversampling_pipeline, all_columns) ,\\n    (\"selection_preprocessor\", selection_pipeline, all_columns)\\n])\\n\\ndata_prepare_pipeline = FeatureUnion([\\n    (\\'oversampling_preprocessor\\', oversampling_pipeline),\\n    (\\'selection_preprocessor\\', selection_pipeline)\\n])\\n\\ndata_prepare_pipeline.fit(X_train)'"
      ]
     },
     "execution_count": 167,
     "metadata": {},
     "output_type": "execute_result"
    }
   ],
   "source": [
    "\"\"\"oversampling_pipeline = Pipeline([(\"over_sampling\", SMOTE(random_state=42))])\n",
    "selection_pipeline = Pipeline([(\"select_features\",SelectPercentile(chi2, percentile=50))])\n",
    "\n",
    "data_prepare_pipeline = ColumnTransformer([\n",
    "    (\"oversampling_preprocessor\", oversampling_pipeline, all_columns) ,\n",
    "    (\"selection_preprocessor\", selection_pipeline, all_columns)\n",
    "])\n",
    "\n",
    "data_prepare_pipeline = FeatureUnion([\n",
    "    ('oversampling_preprocessor', oversampling_pipeline),\n",
    "    ('selection_preprocessor', selection_pipeline)\n",
    "])\n",
    "\n",
    "data_prepare_pipeline.fit(X_train)\"\"\""
   ]
  },
  {
   "cell_type": "code",
   "execution_count": 87,
   "metadata": {},
   "outputs": [
    {
     "data": {
      "text/plain": [
       "array([[ 1.        ,  0.        ,  0.        , ..., -0.73671513,\n",
       "        -0.38067332, -0.23898863],\n",
       "       [ 0.        ,  0.        ,  1.        , ...,  0.5147583 ,\n",
       "         1.56502238,  1.92255638],\n",
       "       [ 0.        ,  0.        ,  1.        , ...,  0.41998703,\n",
       "        -1.30027967,  2.10402572],\n",
       "       ...,\n",
       "       [ 0.        ,  0.        ,  1.        , ...,  0.18351991,\n",
       "         1.18222767,  1.01431642],\n",
       "       [ 0.        ,  0.        ,  1.        , ..., -1.21649113,\n",
       "        -1.80909101,  0.93462145],\n",
       "       [ 1.        ,  0.        ,  0.        , ..., -0.86217782,\n",
       "         1.22364172,  0.1289315 ]])"
      ]
     },
     "execution_count": 87,
     "metadata": {},
     "output_type": "execute_result"
    }
   ],
   "source": [
    "numerical_pipeline = Pipeline([\n",
    "    ('numerical_imputer', KNNImputer(missing_values=np.nan, n_neighbors=3)),\n",
    "    ('numerical_transformer', StandardScaler()),\n",
    "])\n",
    "\n",
    "ordinal_pipeline   = Pipeline([\n",
    "    (\"ordinal_imputer\", SimpleImputer(strategy=\"most_frequent\")),\n",
    "    (\"ordinal_transformer\", OrdinalEncoder())\n",
    "])\n",
    "\n",
    "nominal_pipeline  = Pipeline([\n",
    "    (\"nominal_imputer\", SimpleImputer(strategy=\"most_frequent\")),\n",
    "    (\"nominal_transformer\", OneHotEncoder(sparse=True, handle_unknown=\"ignore\"))\n",
    "])\n",
    "\n",
    "data_processing_pipeline = ColumnTransformer([\n",
    "    (\"nominal_preprocessor\", nominal_pipeline, nominal_columns),\n",
    "    (\"ordinal_preprocessor\", ordinal_pipeline, ordinal_columns),\n",
    "    (\"numerical_preprocessor\", numerical_pipeline, numerical_columns)\n",
    "])\n",
    "\n",
    "data_processing_pipeline.fit_transform(X_train)"
   ]
  },
  {
   "cell_type": "code",
   "execution_count": 138,
   "metadata": {},
   "outputs": [
    {
     "data": {
      "text/plain": [
       "'complete_pipeline = Pipeline([\\n    (\"prepare\", data_prepare_pipeline),\\n    (\"preprocessor\", data_processing_pipeline)\\n])\\n\\ncomplete_pipeline.fit(X_train)'"
      ]
     },
     "execution_count": 138,
     "metadata": {},
     "output_type": "execute_result"
    }
   ],
   "source": [
    "\"\"\"complete_pipeline = Pipeline([\n",
    "    (\"prepare\", data_prepare_pipeline),\n",
    "    (\"preprocessor\", data_processing_pipeline)\n",
    "])\n",
    "\n",
    "complete_pipeline.fit(X_train)\"\"\""
   ]
  },
  {
   "cell_type": "code",
   "execution_count": 88,
   "metadata": {},
   "outputs": [],
   "source": [
    "from sklearn.metrics import accuracy_score, precision_score, recall_score, roc_auc_score\n",
    "classifiers = [\n",
    "        {\n",
    "        'name': 'BaggingClassifier()',\n",
    "        'class': BaggingClassifier(),\n",
    "        'max_evals': 100,\n",
    "        'params': {\n",
    "            'n_estimators': hp.uniformint('n_estimators', 100, 500),\n",
    "            'random_state' : 42\n",
    "           }\n",
    "    },\n",
    "    {\n",
    "        'name': 'RandomForestClassifier()',\n",
    "        'class': RandomForestClassifier(),\n",
    "        'max_evals': 100,\n",
    "        'params': {\n",
    "            'n_estimators': hp.uniformint('n_estimators', 100, 500),\n",
    "            'max_depth': hp.uniformint('max_depth', 2, 20),\n",
    "            'min_samples_leaf':hp.uniformint('min_samples_leaf', 1, 5),\n",
    "            'min_samples_split':hp.uniformint('min_samples_split', 2, 10),\n",
    "            'bootstrap': hp.choice('bootstrap', [True,  False]),\n",
    "            'max_features': hp.choice('max_features', ['auto', 'sqrt']),\n",
    "            'random_state' : 42\n",
    "           }\n",
    "    },\n",
    "     {\n",
    "        'name': 'GradientBoostingClassifier()',\n",
    "        'class': GradientBoostingClassifier(),\n",
    "        'max_evals': 100,\n",
    "        'params': {\n",
    "            'n_estimators': hp.uniformint('n_estimators', 100, 500),\n",
    "            'max_depth': hp.uniformint('max_depth', 2, 20),\n",
    "            'random_state' : 42\n",
    "           }\n",
    "    },\n",
    "    {\n",
    "        'name': 'XGBClassifier()',\n",
    "        'class': xgb.XGBClassifier(eval_metric = \"mlogloss\"),\n",
    "        'max_evals': 100,\n",
    "        'eval_metric': \"mlogloss\",\n",
    "        'params' : {\n",
    "            'learning_rate': hp.loguniform ('learning_rate', 0.01, 0.5),\n",
    "            'max_depth': hp.choice('max_depth', np.arange(2, 11).tolist()),\n",
    "            'min_child_weight': hp.choice('min_child_weight', np.arange(0, 101).tolist()),\n",
    "            'gamma': hp.loguniform('gamma', 0.0, 2.0),\n",
    "            'subsample': hp.uniform('subsample', 0.5, 1.0),\n",
    "            'colsample_bytree': hp.uniform('colsample_bytree', 0.5, 1.0),\n",
    "            'colsample_bylevel': hp.uniform('colsample_bylevel', 0.5, 1.0),\n",
    "            'reg_alpha': hp.loguniform('reg_alpha', 0.0, 2.0),\n",
    "            'reg_lambda': hp.loguniform('reg_lambda', 0.0, 2.0),\n",
    "            'random_state' : 42\n",
    "        }\n",
    "    },    \n",
    "]"
   ]
  },
  {
   "cell_type": "code",
   "execution_count": 89,
   "metadata": {},
   "outputs": [],
   "source": [
    "## TEST \n",
    "classifiers = [\n",
    " {\n",
    "        'name': 'RandomForestClassifier()',\n",
    "        'class': RandomForestClassifier(),\n",
    "        'max_evals': 100,\n",
    "        'params': {\n",
    "            'n_estimators': hp.uniformint('n_estimators', 100, 500),\n",
    "            'max_depth': hp.uniformint('max_depth', 2, 20),\n",
    "            'min_samples_leaf':hp.uniformint('min_samples_leaf', 1, 5),\n",
    "            'min_samples_split':hp.uniformint('min_samples_split', 2, 10),\n",
    "            'bootstrap': hp.choice('bootstrap', [True,  False]),\n",
    "            'max_features': hp.choice('max_features', ['auto', 'sqrt']),\n",
    "            'random_state' : 42\n",
    "           }\n",
    "    },\n",
    "\n",
    "]"
   ]
  },
  {
   "cell_type": "code",
   "execution_count": 90,
   "metadata": {},
   "outputs": [],
   "source": [
    "import os\n",
    "logger = log(path=\"./logs/\", file=\"score.logs\")"
   ]
  },
  {
   "cell_type": "code",
   "execution_count": 91,
   "metadata": {},
   "outputs": [],
   "source": [
    "def objective(space):\n",
    "    pipe_params = {}\n",
    "    \n",
    "    for s in space:\n",
    "        pipe_params[f\"classifier__{s}\"] = space[s]\n",
    "        \n",
    "    pipe.set_params(**pipe_params)\n",
    "    \n",
    "    score = cross_val_score(pipe, X_train, y_train, cv=10, scoring='roc_auc',n_jobs=-1).mean()\n",
    "    \n",
    "    return {'loss': 1- score, 'status': STATUS_OK, 'accuracy': score}"
   ]
  },
  {
   "cell_type": "code",
   "execution_count": 92,
   "metadata": {},
   "outputs": [
    {
     "name": "stdout",
     "output_type": "stream",
     "text": [
      "\n",
      "\n",
      "RandomForestClassifier\n",
      "\r",
      "  0%|                                                                          | 0/100 [00:00<?, ?trial/s, best loss=?]"
     ]
    },
    {
     "name": "stderr",
     "output_type": "stream",
     "text": [
      "INFO build_posterior_wrapper took 0.005370 seconds\n",
      "INFO TPE using 0 trials\n"
     ]
    },
    {
     "name": "stdout",
     "output_type": "stream",
     "text": [
      "\r",
      "  1%|▍                                              | 1/100 [00:06<11:17,  6.84s/trial, best loss: 0.15582553956834533]"
     ]
    },
    {
     "name": "stderr",
     "output_type": "stream",
     "text": [
      "INFO build_posterior_wrapper took 0.011083 seconds\n",
      "INFO TPE using 1/1 trials with best loss 0.155826\n"
     ]
    },
    {
     "name": "stdout",
     "output_type": "stream",
     "text": [
      "\r",
      "  2%|▉                                              | 2/100 [00:11<10:18,  6.31s/trial, best loss: 0.15582553956834533]"
     ]
    },
    {
     "name": "stderr",
     "output_type": "stream",
     "text": [
      "INFO build_posterior_wrapper took 0.005416 seconds\n",
      "INFO TPE using 2/2 trials with best loss 0.155826\n"
     ]
    },
    {
     "name": "stdout",
     "output_type": "stream",
     "text": [
      "\r",
      "  3%|█▍                                             | 3/100 [00:20<11:13,  6.95s/trial, best loss: 0.15582553956834533]"
     ]
    },
    {
     "name": "stderr",
     "output_type": "stream",
     "text": [
      "INFO build_posterior_wrapper took 0.144137 seconds\n",
      "INFO TPE using 3/3 trials with best loss 0.155826\n"
     ]
    },
    {
     "name": "stdout",
     "output_type": "stream",
     "text": [
      "\r",
      "  4%|█▉                                             | 4/100 [00:22<09:01,  5.64s/trial, best loss: 0.15582553956834533]"
     ]
    },
    {
     "name": "stderr",
     "output_type": "stream",
     "text": [
      "INFO build_posterior_wrapper took 0.001996 seconds\n",
      "INFO TPE using 4/4 trials with best loss 0.155826\n"
     ]
    },
    {
     "name": "stdout",
     "output_type": "stream",
     "text": [
      "\r",
      "  5%|██▎                                            | 5/100 [00:24<07:06,  4.49s/trial, best loss: 0.15582553956834533]"
     ]
    },
    {
     "name": "stderr",
     "output_type": "stream",
     "text": [
      "INFO build_posterior_wrapper took 0.001995 seconds\n",
      "INFO TPE using 5/5 trials with best loss 0.155826\n"
     ]
    },
    {
     "name": "stdout",
     "output_type": "stream",
     "text": [
      "\r",
      "  6%|███                                               | 6/100 [00:29<07:07,  4.55s/trial, best loss: 0.13828802672148]"
     ]
    },
    {
     "name": "stderr",
     "output_type": "stream",
     "text": [
      "INFO build_posterior_wrapper took 0.002992 seconds\n",
      "INFO TPE using 6/6 trials with best loss 0.138288\n"
     ]
    },
    {
     "name": "stdout",
     "output_type": "stream",
     "text": [
      "\r",
      "  7%|███▌                                              | 7/100 [00:33<06:41,  4.32s/trial, best loss: 0.13828802672148]"
     ]
    },
    {
     "name": "stderr",
     "output_type": "stream",
     "text": [
      "INFO build_posterior_wrapper took 0.001995 seconds\n",
      "INFO TPE using 7/7 trials with best loss 0.138288\n"
     ]
    },
    {
     "name": "stdout",
     "output_type": "stream",
     "text": [
      "\r",
      "  8%|████                                              | 8/100 [00:35<05:37,  3.66s/trial, best loss: 0.13828802672148]"
     ]
    },
    {
     "name": "stderr",
     "output_type": "stream",
     "text": [
      "INFO build_posterior_wrapper took 0.001996 seconds\n",
      "INFO TPE using 8/8 trials with best loss 0.138288\n"
     ]
    },
    {
     "name": "stdout",
     "output_type": "stream",
     "text": [
      "\r",
      "  9%|████▌                                             | 9/100 [00:38<05:06,  3.37s/trial, best loss: 0.13828802672148]"
     ]
    },
    {
     "name": "stderr",
     "output_type": "stream",
     "text": [
      "INFO build_posterior_wrapper took 0.002892 seconds\n",
      "INFO TPE using 9/9 trials with best loss 0.138288\n"
     ]
    },
    {
     "name": "stdout",
     "output_type": "stream",
     "text": [
      "\r",
      " 10%|████▉                                            | 10/100 [00:42<05:34,  3.72s/trial, best loss: 0.13828802672148]"
     ]
    },
    {
     "name": "stderr",
     "output_type": "stream",
     "text": [
      "INFO build_posterior_wrapper took 0.002033 seconds\n",
      "INFO TPE using 10/10 trials with best loss 0.138288\n"
     ]
    },
    {
     "name": "stdout",
     "output_type": "stream",
     "text": [
      "\r",
      " 11%|█████▍                                           | 11/100 [00:45<05:02,  3.40s/trial, best loss: 0.13828802672148]"
     ]
    },
    {
     "name": "stderr",
     "output_type": "stream",
     "text": [
      "INFO build_posterior_wrapper took 0.002029 seconds\n",
      "INFO TPE using 11/11 trials with best loss 0.138288\n"
     ]
    },
    {
     "name": "stdout",
     "output_type": "stream",
     "text": [
      "\r",
      " 12%|█████▉                                           | 12/100 [00:51<06:27,  4.41s/trial, best loss: 0.13828802672148]"
     ]
    },
    {
     "name": "stderr",
     "output_type": "stream",
     "text": [
      "INFO build_posterior_wrapper took 0.008611 seconds\n",
      "INFO TPE using 12/12 trials with best loss 0.138288\n"
     ]
    },
    {
     "name": "stdout",
     "output_type": "stream",
     "text": [
      "\r",
      " 13%|██████▎                                          | 13/100 [00:55<06:09,  4.24s/trial, best loss: 0.13828802672148]"
     ]
    },
    {
     "name": "stderr",
     "output_type": "stream",
     "text": [
      "INFO build_posterior_wrapper took 0.000996 seconds\n",
      "INFO TPE using 13/13 trials with best loss 0.138288\n"
     ]
    },
    {
     "name": "stdout",
     "output_type": "stream",
     "text": [
      "\r",
      " 14%|██████▊                                          | 14/100 [00:59<05:52,  4.10s/trial, best loss: 0.13828802672148]"
     ]
    },
    {
     "name": "stderr",
     "output_type": "stream",
     "text": [
      "INFO build_posterior_wrapper took 0.000997 seconds\n",
      "INFO TPE using 14/14 trials with best loss 0.138288\n"
     ]
    },
    {
     "name": "stdout",
     "output_type": "stream",
     "text": [
      "\r",
      " 15%|███████▎                                         | 15/100 [01:01<04:42,  3.32s/trial, best loss: 0.13828802672148]"
     ]
    },
    {
     "name": "stderr",
     "output_type": "stream",
     "text": [
      "INFO build_posterior_wrapper took 0.002045 seconds\n",
      "INFO TPE using 15/15 trials with best loss 0.138288\n"
     ]
    },
    {
     "name": "stdout",
     "output_type": "stream",
     "text": [
      "\r",
      " 16%|███████▊                                         | 16/100 [01:04<04:30,  3.22s/trial, best loss: 0.13828802672148]"
     ]
    },
    {
     "name": "stderr",
     "output_type": "stream",
     "text": [
      "INFO build_posterior_wrapper took 0.000000 seconds\n",
      "INFO TPE using 16/16 trials with best loss 0.138288\n"
     ]
    },
    {
     "name": "stdout",
     "output_type": "stream",
     "text": [
      "\r",
      " 17%|████████▎                                        | 17/100 [01:05<03:48,  2.76s/trial, best loss: 0.13828802672148]"
     ]
    },
    {
     "name": "stderr",
     "output_type": "stream",
     "text": [
      "INFO build_posterior_wrapper took 0.001996 seconds\n",
      "INFO TPE using 17/17 trials with best loss 0.138288\n"
     ]
    },
    {
     "name": "stdout",
     "output_type": "stream",
     "text": [
      "\r",
      " 18%|████████▊                                        | 18/100 [01:08<03:37,  2.65s/trial, best loss: 0.13828802672148]"
     ]
    },
    {
     "name": "stderr",
     "output_type": "stream",
     "text": [
      "INFO build_posterior_wrapper took 0.007561 seconds\n",
      "INFO TPE using 18/18 trials with best loss 0.138288\n"
     ]
    },
    {
     "name": "stdout",
     "output_type": "stream",
     "text": [
      "\r",
      " 19%|█████████▎                                       | 19/100 [01:10<03:32,  2.62s/trial, best loss: 0.13828802672148]"
     ]
    },
    {
     "name": "stderr",
     "output_type": "stream",
     "text": [
      "INFO build_posterior_wrapper took 0.001994 seconds\n",
      "INFO TPE using 19/19 trials with best loss 0.138288\n"
     ]
    },
    {
     "name": "stdout",
     "output_type": "stream",
     "text": [
      "\r",
      " 20%|█████████▊                                       | 20/100 [01:14<04:09,  3.12s/trial, best loss: 0.13828802672148]"
     ]
    },
    {
     "name": "stderr",
     "output_type": "stream",
     "text": [
      "INFO build_posterior_wrapper took 0.001994 seconds\n",
      "INFO TPE using 20/20 trials with best loss 0.138288\n"
     ]
    },
    {
     "name": "stdout",
     "output_type": "stream",
     "text": [
      "\r",
      " 21%|█████████▋                                    | 21/100 [01:20<04:56,  3.75s/trial, best loss: 0.13122522390251068]"
     ]
    },
    {
     "name": "stderr",
     "output_type": "stream",
     "text": [
      "INFO build_posterior_wrapper took 0.006222 seconds\n",
      "INFO TPE using 21/21 trials with best loss 0.131225\n"
     ]
    },
    {
     "name": "stdout",
     "output_type": "stream",
     "text": [
      "\r",
      " 22%|██████████                                    | 22/100 [01:25<05:33,  4.28s/trial, best loss: 0.13040364850976371]"
     ]
    },
    {
     "name": "stderr",
     "output_type": "stream",
     "text": [
      "INFO build_posterior_wrapper took 0.002028 seconds\n",
      "INFO TPE using 22/22 trials with best loss 0.130404\n"
     ]
    },
    {
     "name": "stdout",
     "output_type": "stream",
     "text": [
      "\r",
      " 23%|██████████▌                                   | 23/100 [01:31<06:05,  4.75s/trial, best loss: 0.13040364850976371]"
     ]
    },
    {
     "name": "stderr",
     "output_type": "stream",
     "text": [
      "INFO build_posterior_wrapper took 0.000998 seconds\n",
      "INFO TPE using 23/23 trials with best loss 0.130404\n"
     ]
    },
    {
     "name": "stdout",
     "output_type": "stream",
     "text": [
      "\r",
      " 24%|███████████                                   | 24/100 [01:37<06:38,  5.24s/trial, best loss: 0.13040364850976371]"
     ]
    },
    {
     "name": "stderr",
     "output_type": "stream",
     "text": [
      "INFO build_posterior_wrapper took 0.000000 seconds\n",
      "INFO TPE using 24/24 trials with best loss 0.130404\n"
     ]
    },
    {
     "name": "stdout",
     "output_type": "stream",
     "text": [
      "\r",
      " 25%|███████████▊                                   | 25/100 [01:43<06:48,  5.45s/trial, best loss: 0.1301145573337248]"
     ]
    },
    {
     "name": "stderr",
     "output_type": "stream",
     "text": [
      "INFO build_posterior_wrapper took 0.001994 seconds\n",
      "INFO TPE using 25/25 trials with best loss 0.130115\n"
     ]
    },
    {
     "name": "stdout",
     "output_type": "stream",
     "text": [
      "\r",
      " 26%|███████████▉                                  | 26/100 [01:50<06:59,  5.67s/trial, best loss: 0.12922232418147106]"
     ]
    },
    {
     "name": "stderr",
     "output_type": "stream",
     "text": [
      "INFO build_posterior_wrapper took 0.000000 seconds\n",
      "INFO TPE using 26/26 trials with best loss 0.129222\n"
     ]
    },
    {
     "name": "stdout",
     "output_type": "stream",
     "text": [
      "\r",
      " 27%|████████████▍                                 | 27/100 [01:56<07:04,  5.82s/trial, best loss: 0.12922232418147106]"
     ]
    },
    {
     "name": "stderr",
     "output_type": "stream",
     "text": [
      "INFO build_posterior_wrapper took 0.001994 seconds\n",
      "INFO TPE using 27/27 trials with best loss 0.129222\n"
     ]
    },
    {
     "name": "stdout",
     "output_type": "stream",
     "text": [
      "\r",
      " 28%|████████████▉                                 | 28/100 [02:02<07:05,  5.92s/trial, best loss: 0.12922232418147106]"
     ]
    },
    {
     "name": "stderr",
     "output_type": "stream",
     "text": [
      "INFO build_posterior_wrapper took 0.000998 seconds\n",
      "INFO TPE using 28/28 trials with best loss 0.129222\n"
     ]
    },
    {
     "name": "stdout",
     "output_type": "stream",
     "text": [
      "\r",
      " 29%|█████████████▎                                | 29/100 [02:07<06:36,  5.58s/trial, best loss: 0.12922232418147106]"
     ]
    },
    {
     "name": "stderr",
     "output_type": "stream",
     "text": [
      "INFO build_posterior_wrapper took 0.000998 seconds\n",
      "INFO TPE using 29/29 trials with best loss 0.129222\n"
     ]
    },
    {
     "name": "stdout",
     "output_type": "stream",
     "text": [
      "\r",
      " 30%|█████████████▊                                | 30/100 [02:12<06:21,  5.45s/trial, best loss: 0.12922232418147106]"
     ]
    },
    {
     "name": "stderr",
     "output_type": "stream",
     "text": [
      "INFO build_posterior_wrapper took 0.001994 seconds\n",
      "INFO TPE using 30/30 trials with best loss 0.129222\n"
     ]
    },
    {
     "name": "stdout",
     "output_type": "stream",
     "text": [
      "\r",
      " 31%|██████████████▎                               | 31/100 [02:20<07:02,  6.13s/trial, best loss: 0.12922232418147106]"
     ]
    },
    {
     "name": "stderr",
     "output_type": "stream",
     "text": [
      "INFO build_posterior_wrapper took 0.004934 seconds\n",
      "INFO TPE using 31/31 trials with best loss 0.129222\n"
     ]
    },
    {
     "name": "stdout",
     "output_type": "stream",
     "text": [
      "\r",
      " 32%|██████████████▋                               | 32/100 [02:26<06:54,  6.09s/trial, best loss: 0.12922232418147106]"
     ]
    },
    {
     "name": "stderr",
     "output_type": "stream",
     "text": [
      "INFO build_posterior_wrapper took 0.004162 seconds\n",
      "INFO TPE using 32/32 trials with best loss 0.129222\n"
     ]
    },
    {
     "name": "stdout",
     "output_type": "stream",
     "text": [
      "\r",
      " 33%|███████████████▏                              | 33/100 [02:28<05:43,  5.12s/trial, best loss: 0.12922232418147106]"
     ]
    },
    {
     "name": "stderr",
     "output_type": "stream",
     "text": [
      "INFO build_posterior_wrapper took 0.001996 seconds\n",
      "INFO TPE using 33/33 trials with best loss 0.129222\n"
     ]
    },
    {
     "name": "stdout",
     "output_type": "stream",
     "text": [
      "\r",
      " 34%|███████████████▋                              | 34/100 [02:33<05:24,  4.91s/trial, best loss: 0.12922232418147106]"
     ]
    },
    {
     "name": "stderr",
     "output_type": "stream",
     "text": [
      "INFO build_posterior_wrapper took 0.001994 seconds\n",
      "INFO TPE using 34/34 trials with best loss 0.129222\n"
     ]
    },
    {
     "name": "stdout",
     "output_type": "stream",
     "text": [
      "\r",
      " 35%|████████████████                              | 35/100 [02:38<05:17,  4.89s/trial, best loss: 0.12922232418147106]"
     ]
    },
    {
     "name": "stderr",
     "output_type": "stream",
     "text": [
      "INFO build_posterior_wrapper took 0.009480 seconds\n",
      "INFO TPE using 35/35 trials with best loss 0.129222\n"
     ]
    },
    {
     "name": "stdout",
     "output_type": "stream",
     "text": [
      "\r",
      " 36%|████████████████▌                             | 36/100 [02:42<05:00,  4.69s/trial, best loss: 0.12922232418147106]"
     ]
    },
    {
     "name": "stderr",
     "output_type": "stream",
     "text": [
      "INFO build_posterior_wrapper took 0.001994 seconds\n",
      "INFO TPE using 36/36 trials with best loss 0.129222\n"
     ]
    },
    {
     "name": "stdout",
     "output_type": "stream",
     "text": [
      "\r",
      " 37%|█████████████████                             | 37/100 [02:51<06:24,  6.10s/trial, best loss: 0.12922232418147106]"
     ]
    },
    {
     "name": "stderr",
     "output_type": "stream",
     "text": [
      "INFO build_posterior_wrapper took 0.002993 seconds\n",
      "INFO TPE using 37/37 trials with best loss 0.129222\n"
     ]
    },
    {
     "name": "stdout",
     "output_type": "stream",
     "text": [
      "\r",
      " 38%|█████████████████▍                            | 38/100 [02:56<05:59,  5.80s/trial, best loss: 0.12922232418147106]"
     ]
    },
    {
     "name": "stderr",
     "output_type": "stream",
     "text": [
      "INFO build_posterior_wrapper took 0.001996 seconds\n",
      "INFO TPE using 38/38 trials with best loss 0.129222\n"
     ]
    },
    {
     "name": "stdout",
     "output_type": "stream",
     "text": [
      "\r",
      " 39%|█████████████████▉                            | 39/100 [03:02<05:55,  5.83s/trial, best loss: 0.12922232418147106]"
     ]
    },
    {
     "name": "stderr",
     "output_type": "stream",
     "text": [
      "INFO build_posterior_wrapper took 0.002028 seconds\n",
      "INFO TPE using 39/39 trials with best loss 0.129222\n"
     ]
    },
    {
     "name": "stdout",
     "output_type": "stream",
     "text": [
      "\r",
      " 40%|██████████████████▍                           | 40/100 [03:07<05:22,  5.38s/trial, best loss: 0.12922232418147106]"
     ]
    },
    {
     "name": "stderr",
     "output_type": "stream",
     "text": [
      "INFO build_posterior_wrapper took 0.001964 seconds\n",
      "INFO TPE using 40/40 trials with best loss 0.129222\n"
     ]
    },
    {
     "name": "stdout",
     "output_type": "stream",
     "text": [
      "\r",
      " 41%|██████████████████▊                           | 41/100 [03:13<05:27,  5.54s/trial, best loss: 0.12922232418147106]"
     ]
    },
    {
     "name": "stderr",
     "output_type": "stream",
     "text": [
      "INFO build_posterior_wrapper took 0.001994 seconds\n",
      "INFO TPE using 41/41 trials with best loss 0.129222\n"
     ]
    },
    {
     "name": "stdout",
     "output_type": "stream",
     "text": [
      "\r",
      " 42%|███████████████████▎                          | 42/100 [03:17<05:08,  5.31s/trial, best loss: 0.12922232418147106]"
     ]
    },
    {
     "name": "stderr",
     "output_type": "stream",
     "text": [
      "INFO build_posterior_wrapper took 0.001994 seconds\n",
      "INFO TPE using 42/42 trials with best loss 0.129222\n"
     ]
    },
    {
     "name": "stdout",
     "output_type": "stream",
     "text": [
      "\r",
      " 43%|███████████████████▊                          | 43/100 [03:21<04:27,  4.70s/trial, best loss: 0.12922232418147106]"
     ]
    },
    {
     "name": "stderr",
     "output_type": "stream",
     "text": [
      "INFO build_posterior_wrapper took 0.000997 seconds\n",
      "INFO TPE using 43/43 trials with best loss 0.129222\n"
     ]
    },
    {
     "name": "stdout",
     "output_type": "stream",
     "text": [
      "\r",
      " 44%|████████████████████▏                         | 44/100 [03:24<03:58,  4.25s/trial, best loss: 0.12922232418147106]"
     ]
    },
    {
     "name": "stderr",
     "output_type": "stream",
     "text": [
      "INFO build_posterior_wrapper took 0.001994 seconds\n",
      "INFO TPE using 44/44 trials with best loss 0.129222\n"
     ]
    },
    {
     "name": "stdout",
     "output_type": "stream",
     "text": [
      "\r",
      " 45%|████████████████████▋                         | 45/100 [03:30<04:22,  4.77s/trial, best loss: 0.12922232418147106]"
     ]
    },
    {
     "name": "stderr",
     "output_type": "stream",
     "text": [
      "INFO build_posterior_wrapper took 0.001995 seconds\n",
      "INFO TPE using 45/45 trials with best loss 0.129222\n"
     ]
    },
    {
     "name": "stdout",
     "output_type": "stream",
     "text": [
      "\r",
      " 46%|█████████████████████▏                        | 46/100 [03:34<04:01,  4.47s/trial, best loss: 0.12922232418147106]"
     ]
    },
    {
     "name": "stderr",
     "output_type": "stream",
     "text": [
      "INFO build_posterior_wrapper took 0.002046 seconds\n",
      "INFO TPE using 46/46 trials with best loss 0.129222\n"
     ]
    },
    {
     "name": "stdout",
     "output_type": "stream",
     "text": [
      "\r",
      " 47%|█████████████████████▌                        | 47/100 [03:42<04:53,  5.55s/trial, best loss: 0.12922232418147106]"
     ]
    },
    {
     "name": "stderr",
     "output_type": "stream",
     "text": [
      "INFO build_posterior_wrapper took 0.007487 seconds\n",
      "INFO TPE using 47/47 trials with best loss 0.129222\n"
     ]
    },
    {
     "name": "stdout",
     "output_type": "stream",
     "text": [
      "\r",
      " 48%|██████████████████████                        | 48/100 [03:45<04:12,  4.85s/trial, best loss: 0.12922232418147106]"
     ]
    },
    {
     "name": "stderr",
     "output_type": "stream",
     "text": [
      "INFO build_posterior_wrapper took 0.001994 seconds\n",
      "INFO TPE using 48/48 trials with best loss 0.129222\n"
     ]
    },
    {
     "name": "stdout",
     "output_type": "stream",
     "text": [
      "\r",
      " 49%|██████████████████████▌                       | 49/100 [03:49<03:50,  4.51s/trial, best loss: 0.12922232418147106]"
     ]
    },
    {
     "name": "stderr",
     "output_type": "stream",
     "text": [
      "INFO build_posterior_wrapper took 0.001995 seconds\n",
      "INFO TPE using 49/49 trials with best loss 0.129222\n"
     ]
    },
    {
     "name": "stdout",
     "output_type": "stream",
     "text": [
      "\r",
      " 50%|███████████████████████                       | 50/100 [03:55<04:13,  5.08s/trial, best loss: 0.12922232418147106]"
     ]
    },
    {
     "name": "stderr",
     "output_type": "stream",
     "text": [
      "INFO build_posterior_wrapper took 0.002993 seconds\n",
      "INFO TPE using 50/50 trials with best loss 0.129222\n"
     ]
    },
    {
     "name": "stdout",
     "output_type": "stream",
     "text": [
      "\r",
      " 51%|███████████████████████▍                      | 51/100 [03:58<03:32,  4.34s/trial, best loss: 0.12922232418147106]"
     ]
    },
    {
     "name": "stderr",
     "output_type": "stream",
     "text": [
      "INFO build_posterior_wrapper took 0.000000 seconds\n",
      "INFO TPE using 51/51 trials with best loss 0.129222\n"
     ]
    },
    {
     "name": "stdout",
     "output_type": "stream",
     "text": [
      "\r",
      " 52%|███████████████████████▉                      | 52/100 [04:01<03:14,  4.06s/trial, best loss: 0.12922232418147106]"
     ]
    },
    {
     "name": "stderr",
     "output_type": "stream",
     "text": [
      "INFO build_posterior_wrapper took 0.000995 seconds\n",
      "INFO TPE using 52/52 trials with best loss 0.129222\n"
     ]
    },
    {
     "name": "stdout",
     "output_type": "stream",
     "text": [
      "\r",
      " 53%|████████████████████████▍                     | 53/100 [04:05<03:14,  4.14s/trial, best loss: 0.12922232418147106]"
     ]
    },
    {
     "name": "stderr",
     "output_type": "stream",
     "text": [
      "INFO build_posterior_wrapper took 0.001962 seconds\n",
      "INFO TPE using 53/53 trials with best loss 0.129222\n"
     ]
    },
    {
     "name": "stdout",
     "output_type": "stream",
     "text": [
      "\r",
      " 54%|████████████████████████▊                     | 54/100 [04:09<03:04,  4.01s/trial, best loss: 0.12922232418147106]"
     ]
    },
    {
     "name": "stderr",
     "output_type": "stream",
     "text": [
      "INFO build_posterior_wrapper took 0.000993 seconds\n",
      "INFO TPE using 54/54 trials with best loss 0.129222\n"
     ]
    },
    {
     "name": "stdout",
     "output_type": "stream",
     "text": [
      "\r",
      " 55%|█████████████████████████▎                    | 55/100 [04:12<02:45,  3.69s/trial, best loss: 0.12922232418147106]"
     ]
    },
    {
     "name": "stderr",
     "output_type": "stream",
     "text": [
      "INFO build_posterior_wrapper took 0.001996 seconds\n",
      "INFO TPE using 55/55 trials with best loss 0.129222\n"
     ]
    },
    {
     "name": "stdout",
     "output_type": "stream",
     "text": [
      "\r",
      " 56%|█████████████████████████▊                    | 56/100 [04:19<03:22,  4.61s/trial, best loss: 0.12922232418147106]"
     ]
    },
    {
     "name": "stderr",
     "output_type": "stream",
     "text": [
      "INFO build_posterior_wrapper took 0.001995 seconds\n",
      "INFO TPE using 56/56 trials with best loss 0.129222\n"
     ]
    },
    {
     "name": "stdout",
     "output_type": "stream",
     "text": [
      "\r",
      " 57%|██████████████████████████▏                   | 57/100 [04:24<03:30,  4.89s/trial, best loss: 0.12922232418147106]"
     ]
    },
    {
     "name": "stderr",
     "output_type": "stream",
     "text": [
      "INFO build_posterior_wrapper took 0.001995 seconds\n",
      "INFO TPE using 57/57 trials with best loss 0.129222\n"
     ]
    },
    {
     "name": "stdout",
     "output_type": "stream",
     "text": [
      "\r",
      " 58%|██████████████████████████▋                   | 58/100 [04:32<03:56,  5.64s/trial, best loss: 0.12922232418147106]"
     ]
    },
    {
     "name": "stderr",
     "output_type": "stream",
     "text": [
      "INFO build_posterior_wrapper took 0.000000 seconds\n",
      "INFO TPE using 58/58 trials with best loss 0.129222\n"
     ]
    },
    {
     "name": "stdout",
     "output_type": "stream",
     "text": [
      "\r",
      " 59%|███████████████████████████▏                  | 59/100 [04:37<03:41,  5.41s/trial, best loss: 0.12922232418147106]"
     ]
    },
    {
     "name": "stderr",
     "output_type": "stream",
     "text": [
      "INFO build_posterior_wrapper took 0.002991 seconds\n",
      "INFO TPE using 59/59 trials with best loss 0.129222\n"
     ]
    },
    {
     "name": "stdout",
     "output_type": "stream",
     "text": [
      "\r",
      " 60%|███████████████████████████▌                  | 60/100 [04:43<03:44,  5.61s/trial, best loss: 0.12922232418147106]"
     ]
    },
    {
     "name": "stderr",
     "output_type": "stream",
     "text": [
      "INFO build_posterior_wrapper took 0.002027 seconds\n",
      "INFO TPE using 60/60 trials with best loss 0.129222\n"
     ]
    },
    {
     "name": "stdout",
     "output_type": "stream",
     "text": [
      "\r",
      " 61%|████████████████████████████                  | 61/100 [04:46<03:08,  4.83s/trial, best loss: 0.12922232418147106]"
     ]
    },
    {
     "name": "stderr",
     "output_type": "stream",
     "text": [
      "INFO build_posterior_wrapper took 0.007332 seconds\n",
      "INFO TPE using 61/61 trials with best loss 0.129222\n"
     ]
    },
    {
     "name": "stdout",
     "output_type": "stream",
     "text": [
      "\r",
      " 62%|████████████████████████████▌                 | 62/100 [04:53<03:31,  5.58s/trial, best loss: 0.12922232418147106]"
     ]
    },
    {
     "name": "stderr",
     "output_type": "stream",
     "text": [
      "INFO build_posterior_wrapper took 0.001995 seconds\n",
      "INFO TPE using 62/62 trials with best loss 0.129222\n"
     ]
    },
    {
     "name": "stdout",
     "output_type": "stream",
     "text": [
      "\r",
      " 63%|████████████████████████████▉                 | 63/100 [04:58<03:25,  5.56s/trial, best loss: 0.12922232418147106]"
     ]
    },
    {
     "name": "stderr",
     "output_type": "stream",
     "text": [
      "INFO build_posterior_wrapper took 0.001994 seconds\n",
      "INFO TPE using 63/63 trials with best loss 0.129222\n"
     ]
    },
    {
     "name": "stdout",
     "output_type": "stream",
     "text": [
      "\r",
      " 64%|█████████████████████████████▍                | 64/100 [05:03<03:10,  5.30s/trial, best loss: 0.12922232418147106]"
     ]
    },
    {
     "name": "stderr",
     "output_type": "stream",
     "text": [
      "INFO build_posterior_wrapper took 0.001995 seconds\n",
      "INFO TPE using 64/64 trials with best loss 0.129222\n"
     ]
    },
    {
     "name": "stdout",
     "output_type": "stream",
     "text": [
      "\r",
      " 65%|█████████████████████████████▉                | 65/100 [05:05<02:33,  4.40s/trial, best loss: 0.12922232418147106]"
     ]
    },
    {
     "name": "stderr",
     "output_type": "stream",
     "text": [
      "INFO build_posterior_wrapper took 0.001997 seconds\n",
      "INFO TPE using 65/65 trials with best loss 0.129222\n"
     ]
    },
    {
     "name": "stdout",
     "output_type": "stream",
     "text": [
      "\r",
      " 66%|██████████████████████████████▎               | 66/100 [05:11<02:44,  4.83s/trial, best loss: 0.12922232418147106]"
     ]
    },
    {
     "name": "stderr",
     "output_type": "stream",
     "text": [
      "INFO build_posterior_wrapper took 0.001994 seconds\n",
      "INFO TPE using 66/66 trials with best loss 0.129222\n"
     ]
    },
    {
     "name": "stdout",
     "output_type": "stream",
     "text": [
      "\r",
      " 67%|██████████████████████████████▊               | 67/100 [05:17<02:51,  5.19s/trial, best loss: 0.12922232418147106]"
     ]
    },
    {
     "name": "stderr",
     "output_type": "stream",
     "text": [
      "INFO build_posterior_wrapper took 0.002027 seconds\n",
      "INFO TPE using 67/67 trials with best loss 0.129222\n"
     ]
    },
    {
     "name": "stdout",
     "output_type": "stream",
     "text": [
      "\r",
      " 68%|███████████████████████████████▎              | 68/100 [05:24<03:03,  5.75s/trial, best loss: 0.12910189399500815]"
     ]
    },
    {
     "name": "stderr",
     "output_type": "stream",
     "text": [
      "INFO build_posterior_wrapper took 0.001995 seconds\n",
      "INFO TPE using 68/68 trials with best loss 0.129102\n"
     ]
    },
    {
     "name": "stdout",
     "output_type": "stream",
     "text": [
      "\r",
      " 69%|███████████████████████████████▋              | 69/100 [05:31<03:03,  5.92s/trial, best loss: 0.12910189399500815]"
     ]
    },
    {
     "name": "stderr",
     "output_type": "stream",
     "text": [
      "INFO build_posterior_wrapper took 0.000996 seconds\n",
      "INFO TPE using 69/69 trials with best loss 0.129102\n"
     ]
    },
    {
     "name": "stdout",
     "output_type": "stream",
     "text": [
      "\r",
      " 70%|████████████████████████████████▏             | 70/100 [05:37<03:03,  6.10s/trial, best loss: 0.12910189399500815]"
     ]
    },
    {
     "name": "stderr",
     "output_type": "stream",
     "text": [
      "INFO build_posterior_wrapper took 0.001994 seconds\n",
      "INFO TPE using 70/70 trials with best loss 0.129102\n"
     ]
    },
    {
     "name": "stdout",
     "output_type": "stream",
     "text": [
      "\r",
      " 71%|████████████████████████████████▋             | 71/100 [05:44<03:02,  6.28s/trial, best loss: 0.12910189399500815]"
     ]
    },
    {
     "name": "stderr",
     "output_type": "stream",
     "text": [
      "INFO build_posterior_wrapper took 0.001963 seconds\n",
      "INFO TPE using 71/71 trials with best loss 0.129102\n"
     ]
    },
    {
     "name": "stdout",
     "output_type": "stream",
     "text": [
      "\r",
      " 72%|█████████████████████████████████             | 72/100 [05:50<02:57,  6.34s/trial, best loss: 0.12910189399500815]"
     ]
    },
    {
     "name": "stderr",
     "output_type": "stream",
     "text": [
      "INFO build_posterior_wrapper took 0.001995 seconds\n",
      "INFO TPE using 72/72 trials with best loss 0.129102\n"
     ]
    },
    {
     "name": "stdout",
     "output_type": "stream",
     "text": [
      "\r",
      " 73%|█████████████████████████████████▌            | 73/100 [05:56<02:48,  6.24s/trial, best loss: 0.12910189399500815]"
     ]
    },
    {
     "name": "stderr",
     "output_type": "stream",
     "text": [
      "INFO build_posterior_wrapper took 0.002029 seconds\n",
      "INFO TPE using 73/73 trials with best loss 0.129102\n"
     ]
    },
    {
     "name": "stdout",
     "output_type": "stream",
     "text": [
      "\r",
      " 74%|██████████████████████████████████▊            | 74/100 [06:02<02:38,  6.09s/trial, best loss: 0.1290817794743797]"
     ]
    },
    {
     "name": "stderr",
     "output_type": "stream",
     "text": [
      "INFO build_posterior_wrapper took 0.001995 seconds\n",
      "INFO TPE using 74/74 trials with best loss 0.129082\n"
     ]
    },
    {
     "name": "stdout",
     "output_type": "stream",
     "text": [
      "\r",
      " 75%|███████████████████████████████████▎           | 75/100 [06:08<02:29,  5.98s/trial, best loss: 0.1290817794743797]"
     ]
    },
    {
     "name": "stderr",
     "output_type": "stream",
     "text": [
      "INFO build_posterior_wrapper took 0.001996 seconds\n",
      "INFO TPE using 75/75 trials with best loss 0.129082\n"
     ]
    },
    {
     "name": "stdout",
     "output_type": "stream",
     "text": [
      "\r",
      " 76%|███████████████████████████████████▋           | 76/100 [06:13<02:20,  5.85s/trial, best loss: 0.1290817794743797]"
     ]
    },
    {
     "name": "stderr",
     "output_type": "stream",
     "text": [
      "INFO build_posterior_wrapper took 0.000997 seconds\n",
      "INFO TPE using 76/76 trials with best loss 0.129082\n"
     ]
    },
    {
     "name": "stdout",
     "output_type": "stream",
     "text": [
      "\r",
      " 77%|████████████████████████████████████▏          | 77/100 [06:18<02:04,  5.43s/trial, best loss: 0.1290817794743797]"
     ]
    },
    {
     "name": "stderr",
     "output_type": "stream",
     "text": [
      "INFO build_posterior_wrapper took 0.001994 seconds\n",
      "INFO TPE using 77/77 trials with best loss 0.129082\n"
     ]
    },
    {
     "name": "stdout",
     "output_type": "stream",
     "text": [
      "\r",
      " 78%|████████████████████████████████████▋          | 78/100 [06:22<01:54,  5.19s/trial, best loss: 0.1290817794743797]"
     ]
    },
    {
     "name": "stderr",
     "output_type": "stream",
     "text": [
      "INFO build_posterior_wrapper took 0.001976 seconds\n",
      "INFO TPE using 78/78 trials with best loss 0.129082\n"
     ]
    },
    {
     "name": "stdout",
     "output_type": "stream",
     "text": [
      "\r",
      " 79%|█████████████████████████████████████▏         | 79/100 [06:30<02:02,  5.81s/trial, best loss: 0.1290817794743797]"
     ]
    },
    {
     "name": "stderr",
     "output_type": "stream",
     "text": [
      "INFO build_posterior_wrapper took 0.001962 seconds\n",
      "INFO TPE using 79/79 trials with best loss 0.129082\n"
     ]
    },
    {
     "name": "stdout",
     "output_type": "stream",
     "text": [
      "\r",
      " 80%|█████████████████████████████████████▌         | 80/100 [06:34<01:46,  5.33s/trial, best loss: 0.1290817794743797]"
     ]
    },
    {
     "name": "stderr",
     "output_type": "stream",
     "text": [
      "INFO build_posterior_wrapper took 0.000996 seconds\n",
      "INFO TPE using 80/80 trials with best loss 0.129082\n"
     ]
    },
    {
     "name": "stdout",
     "output_type": "stream",
     "text": [
      "\r",
      " 81%|██████████████████████████████████████         | 81/100 [06:39<01:37,  5.11s/trial, best loss: 0.1290817794743797]"
     ]
    },
    {
     "name": "stderr",
     "output_type": "stream",
     "text": [
      "INFO build_posterior_wrapper took 0.001994 seconds\n",
      "INFO TPE using 81/81 trials with best loss 0.129082\n"
     ]
    },
    {
     "name": "stdout",
     "output_type": "stream",
     "text": [
      "\r",
      " 82%|██████████████████████████████████████▌        | 82/100 [06:44<01:34,  5.22s/trial, best loss: 0.1290817794743797]"
     ]
    },
    {
     "name": "stderr",
     "output_type": "stream",
     "text": [
      "INFO build_posterior_wrapper took 0.000996 seconds\n",
      "INFO TPE using 82/82 trials with best loss 0.129082\n"
     ]
    },
    {
     "name": "stdout",
     "output_type": "stream",
     "text": [
      "\r",
      " 83%|███████████████████████████████████████        | 83/100 [06:50<01:34,  5.54s/trial, best loss: 0.1290817794743797]"
     ]
    },
    {
     "name": "stderr",
     "output_type": "stream",
     "text": [
      "INFO build_posterior_wrapper took 0.001994 seconds\n",
      "INFO TPE using 83/83 trials with best loss 0.129082\n"
     ]
    },
    {
     "name": "stdout",
     "output_type": "stream",
     "text": [
      "\r",
      " 84%|███████████████████████████████████████▍       | 84/100 [06:55<01:25,  5.36s/trial, best loss: 0.1290817794743797]"
     ]
    },
    {
     "name": "stderr",
     "output_type": "stream",
     "text": [
      "INFO build_posterior_wrapper took 0.001994 seconds\n",
      "INFO TPE using 84/84 trials with best loss 0.129082\n"
     ]
    },
    {
     "name": "stdout",
     "output_type": "stream",
     "text": [
      "\r",
      " 85%|███████████████████████████████████████▉       | 85/100 [07:01<01:20,  5.37s/trial, best loss: 0.1290817794743797]"
     ]
    },
    {
     "name": "stderr",
     "output_type": "stream",
     "text": [
      "INFO build_posterior_wrapper took 0.001997 seconds\n",
      "INFO TPE using 85/85 trials with best loss 0.129082\n"
     ]
    },
    {
     "name": "stdout",
     "output_type": "stream",
     "text": [
      "\r",
      " 86%|████████████████████████████████████████▍      | 86/100 [07:06<01:15,  5.41s/trial, best loss: 0.1290817794743797]"
     ]
    },
    {
     "name": "stderr",
     "output_type": "stream",
     "text": [
      "INFO build_posterior_wrapper took 0.000999 seconds\n",
      "INFO TPE using 86/86 trials with best loss 0.129082\n"
     ]
    },
    {
     "name": "stdout",
     "output_type": "stream",
     "text": [
      "\r",
      " 87%|████████████████████████████████████████▉      | 87/100 [07:12<01:13,  5.68s/trial, best loss: 0.1290817794743797]"
     ]
    },
    {
     "name": "stderr",
     "output_type": "stream",
     "text": [
      "INFO build_posterior_wrapper took 0.002026 seconds\n",
      "INFO TPE using 87/87 trials with best loss 0.129082\n"
     ]
    },
    {
     "name": "stdout",
     "output_type": "stream",
     "text": [
      "\r",
      " 88%|█████████████████████████████████████████▎     | 88/100 [07:19<01:11,  5.96s/trial, best loss: 0.1290817794743797]"
     ]
    },
    {
     "name": "stderr",
     "output_type": "stream",
     "text": [
      "INFO build_posterior_wrapper took 0.001961 seconds\n",
      "INFO TPE using 88/88 trials with best loss 0.129082\n"
     ]
    },
    {
     "name": "stdout",
     "output_type": "stream",
     "text": [
      "\r",
      " 89%|█████████████████████████████████████████▊     | 89/100 [07:22<00:55,  5.06s/trial, best loss: 0.1290817794743797]"
     ]
    },
    {
     "name": "stderr",
     "output_type": "stream",
     "text": [
      "INFO build_posterior_wrapper took 0.001957 seconds\n",
      "INFO TPE using 89/89 trials with best loss 0.129082\n"
     ]
    },
    {
     "name": "stdout",
     "output_type": "stream",
     "text": [
      "\r",
      " 90%|██████████████████████████████████████████▎    | 90/100 [07:28<00:53,  5.31s/trial, best loss: 0.1290817794743797]"
     ]
    },
    {
     "name": "stderr",
     "output_type": "stream",
     "text": [
      "INFO build_posterior_wrapper took 0.000998 seconds\n",
      "INFO TPE using 90/90 trials with best loss 0.129082\n"
     ]
    },
    {
     "name": "stdout",
     "output_type": "stream",
     "text": [
      "\r",
      " 91%|██████████████████████████████████████████▊    | 91/100 [07:32<00:44,  4.92s/trial, best loss: 0.1290817794743797]"
     ]
    },
    {
     "name": "stderr",
     "output_type": "stream",
     "text": [
      "INFO build_posterior_wrapper took 0.001994 seconds\n",
      "INFO TPE using 91/91 trials with best loss 0.129082\n"
     ]
    },
    {
     "name": "stdout",
     "output_type": "stream",
     "text": [
      "\r",
      " 92%|███████████████████████████████████████████▏   | 92/100 [07:39<00:43,  5.43s/trial, best loss: 0.1290817794743797]"
     ]
    },
    {
     "name": "stderr",
     "output_type": "stream",
     "text": [
      "INFO build_posterior_wrapper took 0.002028 seconds\n",
      "INFO TPE using 92/92 trials with best loss 0.129082\n"
     ]
    },
    {
     "name": "stdout",
     "output_type": "stream",
     "text": [
      "\r",
      " 93%|███████████████████████████████████████████▋   | 93/100 [07:44<00:37,  5.29s/trial, best loss: 0.1290817794743797]"
     ]
    },
    {
     "name": "stderr",
     "output_type": "stream",
     "text": [
      "INFO build_posterior_wrapper took 0.007812 seconds\n",
      "INFO TPE using 93/93 trials with best loss 0.129082\n"
     ]
    },
    {
     "name": "stdout",
     "output_type": "stream",
     "text": [
      "\r",
      " 94%|████████████████████████████████████████████▏  | 94/100 [07:48<00:30,  5.07s/trial, best loss: 0.1290817794743797]"
     ]
    },
    {
     "name": "stderr",
     "output_type": "stream",
     "text": [
      "INFO build_posterior_wrapper took 0.000997 seconds\n",
      "INFO TPE using 94/94 trials with best loss 0.129082\n"
     ]
    },
    {
     "name": "stdout",
     "output_type": "stream",
     "text": [
      "\r",
      " 95%|████████████████████████████████████████████▋  | 95/100 [07:54<00:26,  5.40s/trial, best loss: 0.1290817794743797]"
     ]
    },
    {
     "name": "stderr",
     "output_type": "stream",
     "text": [
      "INFO build_posterior_wrapper took 0.001994 seconds\n",
      "INFO TPE using 95/95 trials with best loss 0.129082\n"
     ]
    },
    {
     "name": "stdout",
     "output_type": "stream",
     "text": [
      "\r",
      " 96%|█████████████████████████████████████████████  | 96/100 [08:00<00:22,  5.52s/trial, best loss: 0.1290817794743797]"
     ]
    },
    {
     "name": "stderr",
     "output_type": "stream",
     "text": [
      "INFO build_posterior_wrapper took 0.000998 seconds\n",
      "INFO TPE using 96/96 trials with best loss 0.129082\n"
     ]
    },
    {
     "name": "stdout",
     "output_type": "stream",
     "text": [
      "\r",
      " 97%|█████████████████████████████████████████████▌ | 97/100 [08:04<00:15,  5.10s/trial, best loss: 0.1290817794743797]"
     ]
    },
    {
     "name": "stderr",
     "output_type": "stream",
     "text": [
      "INFO build_posterior_wrapper took 0.001963 seconds\n",
      "INFO TPE using 97/97 trials with best loss 0.129082\n"
     ]
    },
    {
     "name": "stdout",
     "output_type": "stream",
     "text": [
      "\r",
      " 98%|██████████████████████████████████████████████ | 98/100 [08:08<00:09,  4.58s/trial, best loss: 0.1290817794743797]"
     ]
    },
    {
     "name": "stderr",
     "output_type": "stream",
     "text": [
      "INFO build_posterior_wrapper took 0.000000 seconds\n",
      "INFO TPE using 98/98 trials with best loss 0.129082\n"
     ]
    },
    {
     "name": "stdout",
     "output_type": "stream",
     "text": [
      "\r",
      " 99%|██████████████████████████████████████████████▌| 99/100 [08:13<00:04,  4.84s/trial, best loss: 0.1290817794743797]"
     ]
    },
    {
     "name": "stderr",
     "output_type": "stream",
     "text": [
      "INFO build_posterior_wrapper took 0.000997 seconds\n",
      "INFO TPE using 99/99 trials with best loss 0.129082\n"
     ]
    },
    {
     "name": "stdout",
     "output_type": "stream",
     "text": [
      "100%|██████████████████████████████████████████████| 100/100 [08:19<00:00,  4.99s/trial, best loss: 0.1290817794743797]\n",
      "\n",
      "The best params:\n",
      "Parameter                      Selected\n",
      "bootstrap                      True\n",
      "max_depth                      20\n",
      "max_features                   auto\n",
      "min_samples_leaf               1\n",
      "min_samples_split              3\n",
      "n_estimators                   391\n",
      "random_state                   42\n"
     ]
    }
   ],
   "source": [
    "trials_df = []\n",
    " \n",
    "for cl in classifiers:\n",
    "    cl_name = cl['class'].__class__.__name__\n",
    "    print(f\"\\n\\n{cl_name}\")\n",
    "    \n",
    "    pipe = Pipeline(steps = [\n",
    "    ('data_processing_pipeline', data_processing_pipeline),\n",
    "    ('classifier', cl['class'])\n",
    "    ])\n",
    "    \n",
    "    space = {}\n",
    "    for k in cl['params']:\n",
    "        space[k] = cl['params'][k]\n",
    "    \n",
    "    max_evals = cl['max_evals']\n",
    "    \n",
    "    trials = Trials()\n",
    "    best = fmin(fn=objective,\n",
    "                    space=space,\n",
    "                    algo=tpe.suggest,\n",
    "                    max_evals=max_evals,\n",
    "                    trials=trials)\n",
    "     \n",
    "    best_params = space_eval(space, best)\n",
    "    print('\\nThe best params:')\n",
    "    print (\"{:<30} {}\".format('Parameter','Selected'))\n",
    "    for k, v in best_params.items():\n",
    "        print (\"{:<30} {}\".format(k, v))\n",
    "    \n",
    "    for trial in trials.trials:\n",
    "        trials_df.append({\n",
    "            'classifier': cl_name,\n",
    "            'loss': trial['result']['loss'],\n",
    "            'accuracy': trial['result']['accuracy'],\n",
    "            'params': trial['misc']['vals']\n",
    "            })"
   ]
  },
  {
   "cell_type": "code",
   "execution_count": 93,
   "metadata": {},
   "outputs": [
    {
     "data": {
      "text/html": [
       "<div>\n",
       "<style scoped>\n",
       "    .dataframe tbody tr th:only-of-type {\n",
       "        vertical-align: middle;\n",
       "    }\n",
       "\n",
       "    .dataframe tbody tr th {\n",
       "        vertical-align: top;\n",
       "    }\n",
       "\n",
       "    .dataframe thead th {\n",
       "        text-align: right;\n",
       "    }\n",
       "</style>\n",
       "<table border=\"1\" class=\"dataframe\">\n",
       "  <thead>\n",
       "    <tr style=\"text-align: right;\">\n",
       "      <th></th>\n",
       "      <th>classifier</th>\n",
       "      <th>loss</th>\n",
       "      <th>accuracy</th>\n",
       "      <th>params</th>\n",
       "    </tr>\n",
       "  </thead>\n",
       "  <tbody>\n",
       "    <tr>\n",
       "      <th>73</th>\n",
       "      <td>RandomForestClassifier</td>\n",
       "      <td>0.129082</td>\n",
       "      <td>0.870918</td>\n",
       "      <td>{'bootstrap': [0], 'max_depth': [20.0], 'max_f...</td>\n",
       "    </tr>\n",
       "    <tr>\n",
       "      <th>67</th>\n",
       "      <td>RandomForestClassifier</td>\n",
       "      <td>0.129102</td>\n",
       "      <td>0.870898</td>\n",
       "      <td>{'bootstrap': [0], 'max_depth': [20.0], 'max_f...</td>\n",
       "    </tr>\n",
       "    <tr>\n",
       "      <th>74</th>\n",
       "      <td>RandomForestClassifier</td>\n",
       "      <td>0.129178</td>\n",
       "      <td>0.870822</td>\n",
       "      <td>{'bootstrap': [0], 'max_depth': [20.0], 'max_f...</td>\n",
       "    </tr>\n",
       "    <tr>\n",
       "      <th>25</th>\n",
       "      <td>RandomForestClassifier</td>\n",
       "      <td>0.129222</td>\n",
       "      <td>0.870778</td>\n",
       "      <td>{'bootstrap': [0], 'max_depth': [19.0], 'max_f...</td>\n",
       "    </tr>\n",
       "    <tr>\n",
       "      <th>26</th>\n",
       "      <td>RandomForestClassifier</td>\n",
       "      <td>0.129235</td>\n",
       "      <td>0.870765</td>\n",
       "      <td>{'bootstrap': [0], 'max_depth': [20.0], 'max_f...</td>\n",
       "    </tr>\n",
       "    <tr>\n",
       "      <th>...</th>\n",
       "      <td>...</td>\n",
       "      <td>...</td>\n",
       "      <td>...</td>\n",
       "      <td>...</td>\n",
       "    </tr>\n",
       "    <tr>\n",
       "      <th>17</th>\n",
       "      <td>RandomForestClassifier</td>\n",
       "      <td>0.363692</td>\n",
       "      <td>0.636308</td>\n",
       "      <td>{'bootstrap': [1], 'max_depth': [4.0], 'max_fe...</td>\n",
       "    </tr>\n",
       "    <tr>\n",
       "      <th>97</th>\n",
       "      <td>RandomForestClassifier</td>\n",
       "      <td>0.366344</td>\n",
       "      <td>0.633656</td>\n",
       "      <td>{'bootstrap': [0], 'max_depth': [3.0], 'max_fe...</td>\n",
       "    </tr>\n",
       "    <tr>\n",
       "      <th>54</th>\n",
       "      <td>RandomForestClassifier</td>\n",
       "      <td>0.366755</td>\n",
       "      <td>0.633245</td>\n",
       "      <td>{'bootstrap': [0], 'max_depth': [3.0], 'max_fe...</td>\n",
       "    </tr>\n",
       "    <tr>\n",
       "      <th>32</th>\n",
       "      <td>RandomForestClassifier</td>\n",
       "      <td>0.399218</td>\n",
       "      <td>0.600782</td>\n",
       "      <td>{'bootstrap': [0], 'max_depth': [2.0], 'max_fe...</td>\n",
       "    </tr>\n",
       "    <tr>\n",
       "      <th>42</th>\n",
       "      <td>RandomForestClassifier</td>\n",
       "      <td>0.411453</td>\n",
       "      <td>0.588547</td>\n",
       "      <td>{'bootstrap': [1], 'max_depth': [2.0], 'max_fe...</td>\n",
       "    </tr>\n",
       "  </tbody>\n",
       "</table>\n",
       "<p>100 rows × 4 columns</p>\n",
       "</div>"
      ],
      "text/plain": [
       "                classifier      loss  accuracy  \\\n",
       "73  RandomForestClassifier  0.129082  0.870918   \n",
       "67  RandomForestClassifier  0.129102  0.870898   \n",
       "74  RandomForestClassifier  0.129178  0.870822   \n",
       "25  RandomForestClassifier  0.129222  0.870778   \n",
       "26  RandomForestClassifier  0.129235  0.870765   \n",
       "..                     ...       ...       ...   \n",
       "17  RandomForestClassifier  0.363692  0.636308   \n",
       "97  RandomForestClassifier  0.366344  0.633656   \n",
       "54  RandomForestClassifier  0.366755  0.633245   \n",
       "32  RandomForestClassifier  0.399218  0.600782   \n",
       "42  RandomForestClassifier  0.411453  0.588547   \n",
       "\n",
       "                                               params  \n",
       "73  {'bootstrap': [0], 'max_depth': [20.0], 'max_f...  \n",
       "67  {'bootstrap': [0], 'max_depth': [20.0], 'max_f...  \n",
       "74  {'bootstrap': [0], 'max_depth': [20.0], 'max_f...  \n",
       "25  {'bootstrap': [0], 'max_depth': [19.0], 'max_f...  \n",
       "26  {'bootstrap': [0], 'max_depth': [20.0], 'max_f...  \n",
       "..                                                ...  \n",
       "17  {'bootstrap': [1], 'max_depth': [4.0], 'max_fe...  \n",
       "97  {'bootstrap': [0], 'max_depth': [3.0], 'max_fe...  \n",
       "54  {'bootstrap': [0], 'max_depth': [3.0], 'max_fe...  \n",
       "32  {'bootstrap': [0], 'max_depth': [2.0], 'max_fe...  \n",
       "42  {'bootstrap': [1], 'max_depth': [2.0], 'max_fe...  \n",
       "\n",
       "[100 rows x 4 columns]"
      ]
     },
     "execution_count": 93,
     "metadata": {},
     "output_type": "execute_result"
    }
   ],
   "source": [
    "trials_df = pd.DataFrame(trials_df)\n",
    "trials_df.sort_values('accuracy', ascending=False)"
   ]
  },
  {
   "cell_type": "code",
   "execution_count": 94,
   "metadata": {},
   "outputs": [
    {
     "name": "stderr",
     "output_type": "stream",
     "text": [
      "INFO -------------------------------\n",
      "INFO TOP 10 MODELS WITH Imputation: Mean\n",
      "INFO                 classifier      loss  accuracy  \\\n",
      "73  RandomForestClassifier  0.129082  0.870918   \n",
      "67  RandomForestClassifier  0.129102  0.870898   \n",
      "74  RandomForestClassifier  0.129178  0.870822   \n",
      "25  RandomForestClassifier  0.129222  0.870778   \n",
      "26  RandomForestClassifier  0.129235  0.870765   \n",
      "68  RandomForestClassifier  0.129235  0.870765   \n",
      "81  RandomForestClassifier  0.129525  0.870475   \n",
      "82  RandomForestClassifier  0.129551  0.870449   \n",
      "40  RandomForestClassifier  0.129951  0.870049   \n",
      "55  RandomForestClassifier  0.130045  0.869955   \n",
      "\n",
      "                                               params  \n",
      "73  {'bootstrap': [0], 'max_depth': [20.0], 'max_f...  \n",
      "67  {'bootstrap': [0], 'max_depth': [20.0], 'max_f...  \n",
      "74  {'bootstrap': [0], 'max_depth': [20.0], 'max_f...  \n",
      "25  {'bootstrap': [0], 'max_depth': [19.0], 'max_f...  \n",
      "26  {'bootstrap': [0], 'max_depth': [20.0], 'max_f...  \n",
      "68  {'bootstrap': [0], 'max_depth': [20.0], 'max_f...  \n",
      "81  {'bootstrap': [0], 'max_depth': [19.0], 'max_f...  \n",
      "82  {'bootstrap': [0], 'max_depth': [20.0], 'max_f...  \n",
      "40  {'bootstrap': [0], 'max_depth': [19.0], 'max_f...  \n",
      "55  {'bootstrap': [0], 'max_depth': [19.0], 'max_f...  \n"
     ]
    }
   ],
   "source": [
    "top_models = trials_df.sort_values('accuracy', ascending=False)\n",
    "logger.info(\"-------------------------------\")\n",
    "logger.info(\"TOP 10 MODELS WITH Imputation: Mean\")\n",
    "logger.info(top_models.head(10))"
   ]
  },
  {
   "cell_type": "code",
   "execution_count": 95,
   "metadata": {},
   "outputs": [
    {
     "data": {
      "image/png": "[encoded data removed]",
      "text/plain": [
       "<Figure size 1080x576 with 1 Axes>"
      ]
     },
     "metadata": {
      "needs_background": "light"
     },
     "output_type": "display_data"
    }
   ],
   "source": [
    "plt.figure(figsize=(15,8))\n",
    "sns.swarmplot(data=trials_df, y='classifier', x='accuracy');"
   ]
  },
  {
   "cell_type": "code",
   "execution_count": 100,
   "metadata": {},
   "outputs": [
    {
     "name": "stdout",
     "output_type": "stream",
     "text": [
      "The best model RandomForestClassifier\n"
     ]
    }
   ],
   "source": [
    "print(\"The best model \" + top_models.iloc[0][0])\n",
    "parameters=top_models.iloc[0][3]\n",
    "\n",
    "keys = []\n",
    "values = []\n",
    "for key, value in parameters.items():\n",
    "    keys.append(key)\n",
    "    values.append(int(value[0]))\n",
    "params = dict(zip(keys, values))"
   ]
  },
  {
   "cell_type": "code",
   "execution_count": 98,
   "metadata": {},
   "outputs": [
    {
     "data": {
      "text/plain": [
       "{'bootstrap': 0,\n",
       " 'max_depth': 20,\n",
       " 'max_features': 0,\n",
       " 'min_samples_leaf': 1,\n",
       " 'min_samples_split': 3,\n",
       " 'n_estimators': 391}"
      ]
     },
     "execution_count": 98,
     "metadata": {},
     "output_type": "execute_result"
    }
   ],
   "source": [
    "params"
   ]
  },
  {
   "cell_type": "code",
   "execution_count": 102,
   "metadata": {},
   "outputs": [
    {
     "data": {
      "text/plain": [
       "Pipeline(steps=[('data_processing_pipeline',\n",
       "                 ColumnTransformer(transformers=[('nominal_preprocessor',\n",
       "                                                  Pipeline(steps=[('nominal_imputer',\n",
       "                                                                   SimpleImputer(strategy='most_frequent')),\n",
       "                                                                  ('nominal_transformer',\n",
       "                                                                   OneHotEncoder(handle_unknown='ignore'))]),\n",
       "                                                  ['water_hardness']),\n",
       "                                                 ('ordinal_preprocessor',\n",
       "                                                  Pipeline(steps=[('ordinal_imputer',\n",
       "                                                                   SimpleImputer(strategy='most_f...\n",
       "                                                 ('numerical_preprocessor',\n",
       "                                                  Pipeline(steps=[('numerical_imputer',\n",
       "                                                                   KNNImputer(n_neighbors=3)),\n",
       "                                                                  ('numerical_transformer',\n",
       "                                                                   StandardScaler())]),\n",
       "                                                  Index(['ph', 'Hardness', 'Chloramines', 'Sulfate', 'Organic_carbon',\n",
       "       'Trihalomethanes', 'Turbidity', 'Solids', 'Conductivity'],\n",
       "      dtype='object'))])),\n",
       "                ('classifier',\n",
       "                 RandomForestClassifier(max_depth=20, min_samples_split=3,\n",
       "                                        n_estimators=391))])"
      ]
     },
     "execution_count": 102,
     "metadata": {},
     "output_type": "execute_result"
    }
   ],
   "source": [
    "pipe_finall = Pipeline(steps = [\n",
    "    ('data_processing_pipeline', data_processing_pipeline),\n",
    "    ('classifier', RandomForestClassifier(bootstrap=True,max_depth=20,min_samples_leaf=1,min_samples_split=3,n_estimators=391))\n",
    "    ])\n",
    "\n",
    "\n",
    "pipe_finall.fit(X_train, y_train)"
   ]
  },
  {
   "cell_type": "code",
   "execution_count": 157,
   "metadata": {},
   "outputs": [],
   "source": [
    "feature_importances = np.mean([\n",
    "    tree.feature_importances_ for tree in pipe_finall.steps[1][1].estimators_ \n",
    "], axis=0)"
   ]
  },
  {
   "cell_type": "code",
   "execution_count": 160,
   "metadata": {},
   "outputs": [
    {
     "data": {
      "text/plain": [
       "array([0.13864175, 0.11494992, 0.1134548 , 0.13413441, 0.09970037,\n",
       "       0.09570998, 0.09532681, 0.11026516, 0.09781679])"
      ]
     },
     "execution_count": 160,
     "metadata": {},
     "output_type": "execute_result"
    }
   ],
   "source": [
    "feature_importances"
   ]
  },
  {
   "cell_type": "code",
   "execution_count": 43,
   "metadata": {},
   "outputs": [
    {
     "data": {
      "text/plain": [
       "Index(['ph', 'Hardness', 'Chloramines', 'Sulfate', 'Organic_carbon',\n",
       "       'Trihalomethanes', 'Turbidity', 'Solids', 'Conductivity'],\n",
       "      dtype='object')"
      ]
     },
     "execution_count": 43,
     "metadata": {},
     "output_type": "execute_result"
    }
   ],
   "source": [
    "df.columns[0:9]"
   ]
  },
  {
   "cell_type": "code",
   "execution_count": 152,
   "metadata": {},
   "outputs": [
    {
     "data": {
      "text/plain": [
       "BaggingClassifier(n_estimators=499)"
      ]
     },
     "execution_count": 152,
     "metadata": {},
     "output_type": "execute_result"
    }
   ],
   "source": [
    "pipe_finall.steps[1][1].estimators_ "
   ]
  },
  {
   "cell_type": "code",
   "execution_count": 103,
   "metadata": {},
   "outputs": [],
   "source": [
    "data_processing_pipeline.transform(X_test)\n",
    "y_pred = pipe_finall.predict(X_test)"
   ]
  },
  {
   "cell_type": "code",
   "execution_count": 104,
   "metadata": {},
   "outputs": [
    {
     "name": "stdout",
     "output_type": "stream",
     "text": [
      "              precision    recall  f1-score   support\n",
      "\n",
      "           0       0.67      0.79      0.73       600\n",
      "           1       0.55      0.40      0.47       383\n",
      "\n",
      "    accuracy                           0.64       983\n",
      "   macro avg       0.61      0.60      0.60       983\n",
      "weighted avg       0.63      0.64      0.63       983\n",
      "\n"
     ]
    }
   ],
   "source": [
    "print(classification_report(y_test, y_pred))"
   ]
  },
  {
   "cell_type": "code",
   "execution_count": 105,
   "metadata": {},
   "outputs": [
    {
     "name": "stdout",
     "output_type": "stream",
     "text": [
      "0.6398779247202442\n"
     ]
    }
   ],
   "source": [
    "print(accuracy_score(y_test,y_pred))"
   ]
  },
  {
   "cell_type": "code",
   "execution_count": 106,
   "metadata": {},
   "outputs": [
    {
     "name": "stdout",
     "output_type": "stream",
     "text": [
      "AxesSubplot(0.125,0.125;0.62x0.755)\n"
     ]
    },
    {
     "data": {
      "image/png": "[encoded data removed]",
      "text/plain": [
       "<Figure size 432x288 with 2 Axes>"
      ]
     },
     "metadata": {
      "needs_background": "light"
     },
     "output_type": "display_data"
    }
   ],
   "source": [
    "\n",
    "print(sns.heatmap(confusion_matrix(y_test,y_pred),vmin=0,vmax=500,annot=True,cmap='Blues',fmt='g'));"
   ]
  },
  {
   "cell_type": "code",
   "execution_count": null,
   "metadata": {},
   "outputs": [],
   "source": []
  },
  {
   "cell_type": "code",
   "execution_count": null,
   "metadata": {},
   "outputs": [],
   "source": []
  }
 ],
 "metadata": {
  "kernelspec": {
   "display_name": "Python 3",
   "language": "python",
   "name": "python3"
  },
  "language_info": {
   "codemirror_mode": {
    "name": "ipython",
    "version": 3
   },
   "file_extension": ".py",
   "mimetype": "text/x-python",
   "name": "python",
   "nbconvert_exporter": "python",
   "pygments_lexer": "ipython3",
   "version": "3.8.5"
  }
 },
 "nbformat": 4,
 "nbformat_minor": 4
}
